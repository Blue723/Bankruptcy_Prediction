{
 "cells": [
  {
   "cell_type": "markdown",
   "id": "dab4a27e",
   "metadata": {},
   "source": [
    "# README"
   ]
  },
  {
   "cell_type": "markdown",
   "id": "aa8832c4",
   "metadata": {},
   "source": [
    "This dataset aims to predict bankruptcy for Banks. In the Modeling Classifiers notebook I used various models to exemplify their modeling accuracy. I used pipelines and adjusted some hyperparameters and showed their accuracy scores. I enjoyed workig with this dataset thus far and would like to continue adjusting the features to make for more realistic models. "
   ]
  },
  {
   "cell_type": "code",
   "execution_count": null,
   "id": "cbb4cca7",
   "metadata": {},
   "outputs": [],
   "source": []
  }
 ],
 "metadata": {
  "kernelspec": {
   "display_name": "Python 3",
   "language": "python",
   "name": "python3"
  },
  "language_info": {
   "codemirror_mode": {
    "name": "ipython",
    "version": 3
   },
   "file_extension": ".py",
   "mimetype": "text/x-python",
   "name": "python",
   "nbconvert_exporter": "python",
   "pygments_lexer": "ipython3",
   "version": "3.8.8"
  }
 },
 "nbformat": 4,
 "nbformat_minor": 5
}
