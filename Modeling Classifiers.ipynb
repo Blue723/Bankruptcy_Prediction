{
 "cells": [
  {
   "cell_type": "code",
   "execution_count": 1,
   "id": "d6300d6a",
   "metadata": {},
   "outputs": [],
   "source": [
    "import pandas as pd\n",
    "import numpy as np\n",
    "import matplotlib.pyplot as plt\n",
    "\n",
    "#splitting data\n",
    "from sklearn.model_selection import train_test_split\n",
    "\n",
    "#imbalances\n",
    "from sklearn.preprocessing import StandardScaler\n",
    "from imblearn.over_sampling import SMOTE\n",
    "\n",
    "#sklearn classifiers\n",
    "from sklearn.linear_model import LogisticRegression\n",
    "from sklearn.tree import DecisionTreeClassifier\n",
    "from sklearn.ensemble import RandomForestClassifier, AdaBoostClassifier, BaggingClassifier, GradientBoostingClassifier\n",
    "from sklearn.neighbors import KNeighborsClassifier\n",
    "from sklearn.svm import SVC\n",
    "from sklearn.naive_bayes import BernoulliNB\n",
    "\n",
    "#xgboost, remember eval_metric='mlogloss' parameter to avoid warnings\n",
    "from xgboost import XGBClassifier\n",
    "\n",
    "#pipeline\n",
    "from sklearn.pipeline import Pipeline\n",
    "\n",
    "#random search\n",
    "from sklearn.model_selection import RandomizedSearchCV\n",
    "\n",
    "#accuracy testing\n",
    "from sklearn.metrics import classification_report, confusion_matrix, plot_confusion_matrix\n",
    "from sklearn.metrics import mean_absolute_error, mean_squared_error, accuracy_score\n",
    "from sklearn.metrics import precision_score, recall_score, f1_score\n",
    "from sklearn.model_selection import cross_val_score\n",
    "\n",
    "\n",
    "#warnings\n",
    "import warnings \n",
    "warnings.filterwarnings('ignore')"
   ]
  },
  {
   "cell_type": "code",
   "execution_count": 2,
   "id": "90a18f40",
   "metadata": {},
   "outputs": [],
   "source": [
    "df = pd.read_csv('data.csv')"
   ]
  },
  {
   "cell_type": "code",
   "execution_count": 3,
   "id": "25dc0873",
   "metadata": {
    "scrolled": true
   },
   "outputs": [
    {
     "name": "stdout",
     "output_type": "stream",
     "text": [
      "<class 'pandas.core.frame.DataFrame'>\n",
      "RangeIndex: 6819 entries, 0 to 6818\n",
      "Data columns (total 96 columns):\n",
      " #   Column                                                    Non-Null Count  Dtype  \n",
      "---  ------                                                    --------------  -----  \n",
      " 0   Bankrupt?                                                 6819 non-null   int64  \n",
      " 1    ROA(C) before interest and depreciation before interest  6819 non-null   float64\n",
      " 2    ROA(A) before interest and % after tax                   6819 non-null   float64\n",
      " 3    ROA(B) before interest and depreciation after tax        6819 non-null   float64\n",
      " 4    Operating Gross Margin                                   6819 non-null   float64\n",
      " 5    Realized Sales Gross Margin                              6819 non-null   float64\n",
      " 6    Operating Profit Rate                                    6819 non-null   float64\n",
      " 7    Pre-tax net Interest Rate                                6819 non-null   float64\n",
      " 8    After-tax net Interest Rate                              6819 non-null   float64\n",
      " 9    Non-industry income and expenditure/revenue              6819 non-null   float64\n",
      " 10   Continuous interest rate (after tax)                     6819 non-null   float64\n",
      " 11   Operating Expense Rate                                   6819 non-null   float64\n",
      " 12   Research and development expense rate                    6819 non-null   float64\n",
      " 13   Cash flow rate                                           6819 non-null   float64\n",
      " 14   Interest-bearing debt interest rate                      6819 non-null   float64\n",
      " 15   Tax rate (A)                                             6819 non-null   float64\n",
      " 16   Net Value Per Share (B)                                  6819 non-null   float64\n",
      " 17   Net Value Per Share (A)                                  6819 non-null   float64\n",
      " 18   Net Value Per Share (C)                                  6819 non-null   float64\n",
      " 19   Persistent EPS in the Last Four Seasons                  6819 non-null   float64\n",
      " 20   Cash Flow Per Share                                      6819 non-null   float64\n",
      " 21   Revenue Per Share (Yuan ¥)                               6819 non-null   float64\n",
      " 22   Operating Profit Per Share (Yuan ¥)                      6819 non-null   float64\n",
      " 23   Per Share Net profit before tax (Yuan ¥)                 6819 non-null   float64\n",
      " 24   Realized Sales Gross Profit Growth Rate                  6819 non-null   float64\n",
      " 25   Operating Profit Growth Rate                             6819 non-null   float64\n",
      " 26   After-tax Net Profit Growth Rate                         6819 non-null   float64\n",
      " 27   Regular Net Profit Growth Rate                           6819 non-null   float64\n",
      " 28   Continuous Net Profit Growth Rate                        6819 non-null   float64\n",
      " 29   Total Asset Growth Rate                                  6819 non-null   float64\n",
      " 30   Net Value Growth Rate                                    6819 non-null   float64\n",
      " 31   Total Asset Return Growth Rate Ratio                     6819 non-null   float64\n",
      " 32   Cash Reinvestment %                                      6819 non-null   float64\n",
      " 33   Current Ratio                                            6819 non-null   float64\n",
      " 34   Quick Ratio                                              6819 non-null   float64\n",
      " 35   Interest Expense Ratio                                   6819 non-null   float64\n",
      " 36   Total debt/Total net worth                               6819 non-null   float64\n",
      " 37   Debt ratio %                                             6819 non-null   float64\n",
      " 38   Net worth/Assets                                         6819 non-null   float64\n",
      " 39   Long-term fund suitability ratio (A)                     6819 non-null   float64\n",
      " 40   Borrowing dependency                                     6819 non-null   float64\n",
      " 41   Contingent liabilities/Net worth                         6819 non-null   float64\n",
      " 42   Operating profit/Paid-in capital                         6819 non-null   float64\n",
      " 43   Net profit before tax/Paid-in capital                    6819 non-null   float64\n",
      " 44   Inventory and accounts receivable/Net value              6819 non-null   float64\n",
      " 45   Total Asset Turnover                                     6819 non-null   float64\n",
      " 46   Accounts Receivable Turnover                             6819 non-null   float64\n",
      " 47   Average Collection Days                                  6819 non-null   float64\n",
      " 48   Inventory Turnover Rate (times)                          6819 non-null   float64\n",
      " 49   Fixed Assets Turnover Frequency                          6819 non-null   float64\n",
      " 50   Net Worth Turnover Rate (times)                          6819 non-null   float64\n",
      " 51   Revenue per person                                       6819 non-null   float64\n",
      " 52   Operating profit per person                              6819 non-null   float64\n",
      " 53   Allocation rate per person                               6819 non-null   float64\n",
      " 54   Working Capital to Total Assets                          6819 non-null   float64\n",
      " 55   Quick Assets/Total Assets                                6819 non-null   float64\n",
      " 56   Current Assets/Total Assets                              6819 non-null   float64\n",
      " 57   Cash/Total Assets                                        6819 non-null   float64\n",
      " 58   Quick Assets/Current Liability                           6819 non-null   float64\n",
      " 59   Cash/Current Liability                                   6819 non-null   float64\n",
      " 60   Current Liability to Assets                              6819 non-null   float64\n",
      " 61   Operating Funds to Liability                             6819 non-null   float64\n",
      " 62   Inventory/Working Capital                                6819 non-null   float64\n",
      " 63   Inventory/Current Liability                              6819 non-null   float64\n",
      " 64   Current Liabilities/Liability                            6819 non-null   float64\n",
      " 65   Working Capital/Equity                                   6819 non-null   float64\n",
      " 66   Current Liabilities/Equity                               6819 non-null   float64\n",
      " 67   Long-term Liability to Current Assets                    6819 non-null   float64\n",
      " 68   Retained Earnings to Total Assets                        6819 non-null   float64\n",
      " 69   Total income/Total expense                               6819 non-null   float64\n",
      " 70   Total expense/Assets                                     6819 non-null   float64\n",
      " 71   Current Asset Turnover Rate                              6819 non-null   float64\n",
      " 72   Quick Asset Turnover Rate                                6819 non-null   float64\n",
      " 73   Working capitcal Turnover Rate                           6819 non-null   float64\n",
      " 74   Cash Turnover Rate                                       6819 non-null   float64\n",
      " 75   Cash Flow to Sales                                       6819 non-null   float64\n",
      " 76   Fixed Assets to Assets                                   6819 non-null   float64\n",
      " 77   Current Liability to Liability                           6819 non-null   float64\n",
      " 78   Current Liability to Equity                              6819 non-null   float64\n",
      " 79   Equity to Long-term Liability                            6819 non-null   float64\n",
      " 80   Cash Flow to Total Assets                                6819 non-null   float64\n",
      " 81   Cash Flow to Liability                                   6819 non-null   float64\n",
      " 82   CFO to Assets                                            6819 non-null   float64\n",
      " 83   Cash Flow to Equity                                      6819 non-null   float64\n",
      " 84   Current Liability to Current Assets                      6819 non-null   float64\n",
      " 85   Liability-Assets Flag                                    6819 non-null   int64  \n",
      " 86   Net Income to Total Assets                               6819 non-null   float64\n",
      " 87   Total assets to GNP price                                6819 non-null   float64\n",
      " 88   No-credit Interval                                       6819 non-null   float64\n",
      " 89   Gross Profit to Sales                                    6819 non-null   float64\n",
      " 90   Net Income to Stockholder's Equity                       6819 non-null   float64\n",
      " 91   Liability to Equity                                      6819 non-null   float64\n",
      " 92   Degree of Financial Leverage (DFL)                       6819 non-null   float64\n",
      " 93   Interest Coverage Ratio (Interest expense to EBIT)       6819 non-null   float64\n",
      " 94   Net Income Flag                                          6819 non-null   int64  \n",
      " 95   Equity to Liability                                      6819 non-null   float64\n",
      "dtypes: float64(93), int64(3)\n",
      "memory usage: 5.0 MB\n"
     ]
    }
   ],
   "source": [
    "df.info()"
   ]
  },
  {
   "cell_type": "code",
   "execution_count": 4,
   "id": "4994cf0c",
   "metadata": {},
   "outputs": [
    {
     "data": {
      "text/plain": [
       "0    6599\n",
       "1     220\n",
       "Name: Bankrupt?, dtype: int64"
      ]
     },
     "execution_count": 4,
     "metadata": {},
     "output_type": "execute_result"
    }
   ],
   "source": [
    "#there is an unbalance in the data outcome\n",
    "# 0 = Not Bankrupt\n",
    "# 1 = Bankrupt\n",
    "df['Bankrupt?'].value_counts()"
   ]
  },
  {
   "cell_type": "code",
   "execution_count": 5,
   "id": "fd716f8d",
   "metadata": {},
   "outputs": [],
   "source": [
    "bankrupt_labels = ['Not Bankrupt', 'Bankrupt']"
   ]
  },
  {
   "cell_type": "code",
   "execution_count": 6,
   "id": "7d94b279",
   "metadata": {},
   "outputs": [],
   "source": [
    "#set x and y\n",
    "X = df.drop(columns=['Bankrupt?'])\n",
    "y = df['Bankrupt?']"
   ]
  },
  {
   "cell_type": "code",
   "execution_count": 7,
   "id": "596e2005",
   "metadata": {},
   "outputs": [],
   "source": [
    "#split training and testing samples\n",
    "X_train, X_test, y_train, y_test = train_test_split(X, y, test_size=.2)"
   ]
  },
  {
   "cell_type": "code",
   "execution_count": null,
   "id": "6cb8f30b",
   "metadata": {},
   "outputs": [],
   "source": []
  },
  {
   "cell_type": "code",
   "execution_count": 8,
   "id": "63428fc9",
   "metadata": {},
   "outputs": [],
   "source": [
    "#SMOTE\n",
    "smote = SMOTE()\n",
    "X_train, y_train = smote.fit_resample(X_train, y_train)"
   ]
  },
  {
   "cell_type": "markdown",
   "id": "1648b431",
   "metadata": {},
   "source": [
    "### Logistic Regression Model"
   ]
  },
  {
   "cell_type": "code",
   "execution_count": 9,
   "id": "ba4ec60c",
   "metadata": {},
   "outputs": [
    {
     "data": {
      "text/plain": [
       "LogisticRegression()"
      ]
     },
     "execution_count": 9,
     "metadata": {},
     "output_type": "execute_result"
    }
   ],
   "source": [
    "log_reg = LogisticRegression()\n",
    "log_reg.fit(X_train, y_train)"
   ]
  },
  {
   "cell_type": "code",
   "execution_count": 10,
   "id": "4679f8e9",
   "metadata": {},
   "outputs": [],
   "source": [
    "train_log_reg = log_reg.predict(X_train)"
   ]
  },
  {
   "cell_type": "code",
   "execution_count": 11,
   "id": "2201598b",
   "metadata": {},
   "outputs": [
    {
     "name": "stdout",
     "output_type": "stream",
     "text": [
      "              precision    recall  f1-score   support\n",
      "\n",
      "Not Bankrupt       0.57      0.77      0.65      5286\n",
      "    Bankrupt       0.64      0.42      0.50      5286\n",
      "\n",
      "    accuracy                           0.59     10572\n",
      "   macro avg       0.61      0.59      0.58     10572\n",
      "weighted avg       0.61      0.59      0.58     10572\n",
      "\n"
     ]
    }
   ],
   "source": [
    "print(classification_report(y_train, train_log_reg, target_names=bankrupt_labels))"
   ]
  },
  {
   "cell_type": "code",
   "execution_count": 12,
   "id": "c3420744",
   "metadata": {},
   "outputs": [],
   "source": [
    "#test sample logistic regression\n",
    "test_log_reg = log_reg.predict(X_test)"
   ]
  },
  {
   "cell_type": "code",
   "execution_count": 13,
   "id": "90bb50c7",
   "metadata": {},
   "outputs": [
    {
     "data": {
      "text/plain": [
       "<sklearn.metrics._plot.confusion_matrix.ConfusionMatrixDisplay at 0x1ad9f9f3a30>"
      ]
     },
     "execution_count": 13,
     "metadata": {},
     "output_type": "execute_result"
    },
    {
     "data": {
      "image/png": "[encoded data removed]",
      "text/plain": [
       "<Figure size 432x288 with 2 Axes>"
      ]
     },
     "metadata": {
      "needs_background": "light"
     },
     "output_type": "display_data"
    }
   ],
   "source": [
    "#plot train sample confusion matrix\n",
    "plot_confusion_matrix(log_reg, X_test, y_test, display_labels=bankrupt_labels, cmap=plt.cm.Blues)"
   ]
  },
  {
   "cell_type": "code",
   "execution_count": 14,
   "id": "431b7a36",
   "metadata": {},
   "outputs": [
    {
     "name": "stdout",
     "output_type": "stream",
     "text": [
      "              precision    recall  f1-score   support\n",
      "\n",
      "Not Bankrupt       0.97      0.76      0.85      1313\n",
      "    Bankrupt       0.07      0.49      0.13        51\n",
      "\n",
      "    accuracy                           0.75      1364\n",
      "   macro avg       0.52      0.62      0.49      1364\n",
      "weighted avg       0.94      0.75      0.82      1364\n",
      "\n"
     ]
    }
   ],
   "source": [
    "print(classification_report(y_test, test_log_reg, target_names=bankrupt_labels))"
   ]
  },
  {
   "cell_type": "code",
   "execution_count": 15,
   "id": "1360e7e8",
   "metadata": {
    "scrolled": false
   },
   "outputs": [
    {
     "name": "stdout",
     "output_type": "stream",
     "text": [
      "[0.94890511 0.94160584 0.96350365 0.94890511 0.96323529 0.96323529\n",
      " 0.95588235 0.95588235 0.96323529 0.96323529]\n"
     ]
    }
   ],
   "source": [
    "print(cross_val_score(log_reg, X_test, y_test, scoring='accuracy', cv=10))"
   ]
  },
  {
   "cell_type": "code",
   "execution_count": 16,
   "id": "2442d021",
   "metadata": {},
   "outputs": [
    {
     "name": "stdout",
     "output_type": "stream",
     "text": [
      "0.9567625590382137\n"
     ]
    }
   ],
   "source": [
    "print(cross_val_score(log_reg, X_test, y_test, scoring='accuracy', cv=10).mean())"
   ]
  },
  {
   "cell_type": "code",
   "execution_count": 17,
   "id": "b93380ee",
   "metadata": {},
   "outputs": [
    {
     "name": "stdout",
     "output_type": "stream",
     "text": [
      "0.0075351323953538295\n"
     ]
    }
   ],
   "source": [
    "print(cross_val_score(log_reg, X_test, y_test, scoring='accuracy', cv=10).std())"
   ]
  },
  {
   "cell_type": "code",
   "execution_count": 18,
   "id": "8c643528",
   "metadata": {},
   "outputs": [
    {
     "name": "stdout",
     "output_type": "stream",
     "text": [
      "Mean Absolute Error: 0.2529325513196481\n",
      "Mean Squared Error: 0.2529325513196481\n",
      "Root Mean Squared Error: 0.5029240015346733\n"
     ]
    }
   ],
   "source": [
    "print('Mean Absolute Error:', mean_absolute_error(y_test, test_log_reg))\n",
    "print('Mean Squared Error:', mean_squared_error(y_test, test_log_reg))  \n",
    "print('Root Mean Squared Error:', np.sqrt(mean_squared_error(y_test, test_log_reg)))"
   ]
  },
  {
   "cell_type": "code",
   "execution_count": 19,
   "id": "107fae48",
   "metadata": {},
   "outputs": [
    {
     "data": {
      "text/plain": [
       "0.07267441860465117"
      ]
     },
     "execution_count": 19,
     "metadata": {},
     "output_type": "execute_result"
    }
   ],
   "source": [
    "precision_score(y_test, test_log_reg)"
   ]
  },
  {
   "cell_type": "code",
   "execution_count": 20,
   "id": "fb538272",
   "metadata": {},
   "outputs": [
    {
     "data": {
      "text/plain": [
       "0.49019607843137253"
      ]
     },
     "execution_count": 20,
     "metadata": {},
     "output_type": "execute_result"
    }
   ],
   "source": [
    "recall_score(y_test, test_log_reg)"
   ]
  },
  {
   "cell_type": "code",
   "execution_count": 21,
   "id": "25eb27c4",
   "metadata": {},
   "outputs": [
    {
     "data": {
      "text/plain": [
       "0.12658227848101267"
      ]
     },
     "execution_count": 21,
     "metadata": {},
     "output_type": "execute_result"
    }
   ],
   "source": [
    "f1_score(y_test, test_log_reg)"
   ]
  },
  {
   "cell_type": "markdown",
   "id": "fdeca46b",
   "metadata": {},
   "source": [
    "### Decision Tree"
   ]
  },
  {
   "cell_type": "code",
   "execution_count": 22,
   "id": "1743dffc",
   "metadata": {},
   "outputs": [],
   "source": [
    "#pipeline decision tree\n",
    "dtc_pipeline = Pipeline([\n",
    "    ('ss', StandardScaler()),\n",
    "    ('dtc', DecisionTreeClassifier())\n",
    "])"
   ]
  },
  {
   "cell_type": "code",
   "execution_count": 23,
   "id": "2905ef40",
   "metadata": {},
   "outputs": [
    {
     "data": {
      "text/plain": [
       "Pipeline(steps=[('ss', StandardScaler()), ('dtc', DecisionTreeClassifier())])"
      ]
     },
     "execution_count": 23,
     "metadata": {},
     "output_type": "execute_result"
    }
   ],
   "source": [
    "dtc_pipeline.fit(X_train, y_train)"
   ]
  },
  {
   "cell_type": "code",
   "execution_count": 24,
   "id": "1420fdc5",
   "metadata": {},
   "outputs": [
    {
     "data": {
      "text/plain": [
       "dict_keys(['memory', 'steps', 'verbose', 'ss', 'dtc', 'ss__copy', 'ss__with_mean', 'ss__with_std', 'dtc__ccp_alpha', 'dtc__class_weight', 'dtc__criterion', 'dtc__max_depth', 'dtc__max_features', 'dtc__max_leaf_nodes', 'dtc__min_impurity_decrease', 'dtc__min_impurity_split', 'dtc__min_samples_leaf', 'dtc__min_samples_split', 'dtc__min_weight_fraction_leaf', 'dtc__random_state', 'dtc__splitter'])"
      ]
     },
     "execution_count": 24,
     "metadata": {},
     "output_type": "execute_result"
    }
   ],
   "source": [
    "dtc_pipeline.get_params().keys()"
   ]
  },
  {
   "cell_type": "code",
   "execution_count": 25,
   "id": "99e50af1",
   "metadata": {},
   "outputs": [],
   "source": [
    "param_grid_dtc = [{\n",
    "    'dtc__criterion': ['gini', 'entropy'],\n",
    "    'dtc__max_depth': [10, 50],\n",
    "    'dtc__min_samples_leaf': [10, 50],\n",
    "    'dtc__min_samples_split': [5, 50]\n",
    "}]"
   ]
  },
  {
   "cell_type": "code",
   "execution_count": 26,
   "id": "bd695ab7",
   "metadata": {},
   "outputs": [],
   "source": [
    "rand_search_dtc = RandomizedSearchCV(dtc_pipeline, param_grid_dtc)\n",
    "\n",
    "rand_search_dtc.fit(X_train, y_train)\n",
    "train_rand_search_dtc = rand_search_dtc.predict(X_train)"
   ]
  },
  {
   "cell_type": "code",
   "execution_count": 27,
   "id": "eefb893b",
   "metadata": {},
   "outputs": [
    {
     "name": "stdout",
     "output_type": "stream",
     "text": [
      "              precision    recall  f1-score   support\n",
      "\n",
      "Not Bankrupt       0.98      0.98      0.98      5286\n",
      "    Bankrupt       0.98      0.98      0.98      5286\n",
      "\n",
      "    accuracy                           0.98     10572\n",
      "   macro avg       0.98      0.98      0.98     10572\n",
      "weighted avg       0.98      0.98      0.98     10572\n",
      "\n"
     ]
    }
   ],
   "source": [
    "print(classification_report(y_train, train_rand_search_dtc, target_names=bankrupt_labels))"
   ]
  },
  {
   "cell_type": "code",
   "execution_count": 28,
   "id": "28cecd35",
   "metadata": {},
   "outputs": [],
   "source": [
    "#test sample random search decision tree\n",
    "test_rand_search_dtc = rand_search_dtc.predict(X_test)"
   ]
  },
  {
   "cell_type": "code",
   "execution_count": 29,
   "id": "9759067e",
   "metadata": {
    "scrolled": true
   },
   "outputs": [
    {
     "name": "stdout",
     "output_type": "stream",
     "text": [
      "              precision    recall  f1-score   support\n",
      "\n",
      "Not Bankrupt       0.98      0.95      0.96      1313\n",
      "    Bankrupt       0.28      0.49      0.35        51\n",
      "\n",
      "    accuracy                           0.93      1364\n",
      "   macro avg       0.63      0.72      0.66      1364\n",
      "weighted avg       0.95      0.93      0.94      1364\n",
      "\n"
     ]
    }
   ],
   "source": [
    "print(classification_report(y_test, test_rand_search_dtc, target_names=bankrupt_labels))"
   ]
  },
  {
   "cell_type": "markdown",
   "id": "e206910e",
   "metadata": {},
   "source": [
    "### -------"
   ]
  },
  {
   "cell_type": "code",
   "execution_count": 30,
   "id": "503b06c3",
   "metadata": {},
   "outputs": [],
   "source": [
    "#hard code decision tree"
   ]
  },
  {
   "cell_type": "code",
   "execution_count": 31,
   "id": "d6889a55",
   "metadata": {},
   "outputs": [
    {
     "data": {
      "text/plain": [
       "DecisionTreeClassifier()"
      ]
     },
     "execution_count": 31,
     "metadata": {},
     "output_type": "execute_result"
    }
   ],
   "source": [
    "dtc = DecisionTreeClassifier()\n",
    "dtc.fit(X_train, y_train)"
   ]
  },
  {
   "cell_type": "code",
   "execution_count": 32,
   "id": "ddeb2318",
   "metadata": {},
   "outputs": [],
   "source": [
    "#decision tree train set model\n",
    "train_dtc = dtc.predict(X_train)"
   ]
  },
  {
   "cell_type": "code",
   "execution_count": 33,
   "id": "3a35b9de",
   "metadata": {},
   "outputs": [
    {
     "name": "stdout",
     "output_type": "stream",
     "text": [
      "              precision    recall  f1-score   support\n",
      "\n",
      "Not Bankrupt       1.00      1.00      1.00      5286\n",
      "    Bankrupt       1.00      1.00      1.00      5286\n",
      "\n",
      "    accuracy                           1.00     10572\n",
      "   macro avg       1.00      1.00      1.00     10572\n",
      "weighted avg       1.00      1.00      1.00     10572\n",
      "\n"
     ]
    }
   ],
   "source": [
    "print(classification_report(y_train, train_dtc, target_names=bankrupt_labels))"
   ]
  },
  {
   "cell_type": "code",
   "execution_count": 34,
   "id": "c5a0a925",
   "metadata": {},
   "outputs": [],
   "source": [
    "#decision tree test set model\n",
    "test_dtc = dtc.predict(X_test)"
   ]
  },
  {
   "cell_type": "code",
   "execution_count": 35,
   "id": "794fa253",
   "metadata": {},
   "outputs": [
    {
     "data": {
      "text/plain": [
       "<sklearn.metrics._plot.confusion_matrix.ConfusionMatrixDisplay at 0x1ada000af70>"
      ]
     },
     "execution_count": 35,
     "metadata": {},
     "output_type": "execute_result"
    },
    {
     "data": {
      "image/png": "[encoded data removed]",
      "text/plain": [
       "<Figure size 432x288 with 2 Axes>"
      ]
     },
     "metadata": {
      "needs_background": "light"
     },
     "output_type": "display_data"
    }
   ],
   "source": [
    "plot_confusion_matrix(dtc, X_test, y_test, display_labels=bankrupt_labels, cmap=plt.cm.Greens)"
   ]
  },
  {
   "cell_type": "code",
   "execution_count": 36,
   "id": "5dfbf7f9",
   "metadata": {
    "scrolled": true
   },
   "outputs": [
    {
     "name": "stdout",
     "output_type": "stream",
     "text": [
      "              precision    recall  f1-score   support\n",
      "\n",
      "Not Bankrupt       0.98      0.96      0.97      1313\n",
      "    Bankrupt       0.26      0.41      0.32        51\n",
      "\n",
      "    accuracy                           0.93      1364\n",
      "   macro avg       0.62      0.68      0.64      1364\n",
      "weighted avg       0.95      0.93      0.94      1364\n",
      "\n"
     ]
    }
   ],
   "source": [
    "print(classification_report(y_test, test_dtc, target_names=bankrupt_labels))"
   ]
  },
  {
   "cell_type": "code",
   "execution_count": 37,
   "id": "f45d5f40",
   "metadata": {
    "scrolled": true
   },
   "outputs": [
    {
     "name": "stdout",
     "output_type": "stream",
     "text": [
      "[0.95620438 0.91970803 0.95620438 0.95620438 0.94117647 0.97058824\n",
      " 0.93382353 0.93382353 0.93382353 0.93382353]\n"
     ]
    }
   ],
   "source": [
    "print(cross_val_score(dtc, X_test, y_test, scoring='accuracy', cv=10))"
   ]
  },
  {
   "cell_type": "code",
   "execution_count": 38,
   "id": "746fdfd4",
   "metadata": {},
   "outputs": [
    {
     "name": "stdout",
     "output_type": "stream",
     "text": [
      "0.9427973379132675\n"
     ]
    }
   ],
   "source": [
    "print(cross_val_score(dtc, X_test, y_test, scoring='accuracy', cv=10).mean())"
   ]
  },
  {
   "cell_type": "code",
   "execution_count": 39,
   "id": "5e32a69d",
   "metadata": {},
   "outputs": [
    {
     "name": "stdout",
     "output_type": "stream",
     "text": [
      "0.017999015662305686\n"
     ]
    }
   ],
   "source": [
    "print(cross_val_score(dtc, X_test, y_test, scoring='accuracy', cv=10).std())"
   ]
  },
  {
   "cell_type": "code",
   "execution_count": 40,
   "id": "983cffc8",
   "metadata": {},
   "outputs": [
    {
     "name": "stdout",
     "output_type": "stream",
     "text": [
      "Mean Absolute Error: 0.06524926686217009\n",
      "Mean Squared Error: 0.06524926686217009\n",
      "Root Mean Squared Error: 0.25543936044034027\n"
     ]
    }
   ],
   "source": [
    "print('Mean Absolute Error:', mean_absolute_error(y_test, test_dtc))\n",
    "print('Mean Squared Error:', mean_squared_error(y_test, test_dtc))  \n",
    "print('Root Mean Squared Error:', np.sqrt(mean_squared_error(y_test, test_dtc)))"
   ]
  },
  {
   "cell_type": "code",
   "execution_count": 41,
   "id": "cd0f2fd7",
   "metadata": {},
   "outputs": [
    {
     "data": {
      "text/plain": [
       "0.2625"
      ]
     },
     "execution_count": 41,
     "metadata": {},
     "output_type": "execute_result"
    }
   ],
   "source": [
    "precision_score(y_test, test_dtc)"
   ]
  },
  {
   "cell_type": "code",
   "execution_count": 42,
   "id": "df61c868",
   "metadata": {},
   "outputs": [
    {
     "data": {
      "text/plain": [
       "0.4117647058823529"
      ]
     },
     "execution_count": 42,
     "metadata": {},
     "output_type": "execute_result"
    }
   ],
   "source": [
    "recall_score(y_test, test_dtc)"
   ]
  },
  {
   "cell_type": "code",
   "execution_count": 43,
   "id": "013c63f7",
   "metadata": {
    "scrolled": true
   },
   "outputs": [
    {
     "data": {
      "text/plain": [
       "0.32061068702290074"
      ]
     },
     "execution_count": 43,
     "metadata": {},
     "output_type": "execute_result"
    }
   ],
   "source": [
    "f1_score(y_test, test_dtc)"
   ]
  },
  {
   "cell_type": "code",
   "execution_count": null,
   "id": "082bd6b0",
   "metadata": {},
   "outputs": [],
   "source": []
  },
  {
   "cell_type": "markdown",
   "id": "83dd56c5",
   "metadata": {},
   "source": [
    "### Random Forest"
   ]
  },
  {
   "cell_type": "code",
   "execution_count": 44,
   "id": "8a7b45e1",
   "metadata": {},
   "outputs": [],
   "source": [
    "#pipeline decision tree\n",
    "rfc_pipeline = Pipeline([\n",
    "    ('ss', StandardScaler()),\n",
    "    ('rfc', RandomForestClassifier())\n",
    "])"
   ]
  },
  {
   "cell_type": "code",
   "execution_count": 45,
   "id": "0e487071",
   "metadata": {},
   "outputs": [
    {
     "data": {
      "text/plain": [
       "Pipeline(steps=[('ss', StandardScaler()), ('rfc', RandomForestClassifier())])"
      ]
     },
     "execution_count": 45,
     "metadata": {},
     "output_type": "execute_result"
    }
   ],
   "source": [
    "rfc_pipeline.fit(X_train, y_train)"
   ]
  },
  {
   "cell_type": "code",
   "execution_count": 46,
   "id": "0c96a207",
   "metadata": {},
   "outputs": [
    {
     "data": {
      "text/plain": [
       "dict_keys(['memory', 'steps', 'verbose', 'ss', 'rfc', 'ss__copy', 'ss__with_mean', 'ss__with_std', 'rfc__bootstrap', 'rfc__ccp_alpha', 'rfc__class_weight', 'rfc__criterion', 'rfc__max_depth', 'rfc__max_features', 'rfc__max_leaf_nodes', 'rfc__max_samples', 'rfc__min_impurity_decrease', 'rfc__min_impurity_split', 'rfc__min_samples_leaf', 'rfc__min_samples_split', 'rfc__min_weight_fraction_leaf', 'rfc__n_estimators', 'rfc__n_jobs', 'rfc__oob_score', 'rfc__random_state', 'rfc__verbose', 'rfc__warm_start'])"
      ]
     },
     "execution_count": 46,
     "metadata": {},
     "output_type": "execute_result"
    }
   ],
   "source": [
    "rfc_pipeline.get_params().keys()"
   ]
  },
  {
   "cell_type": "code",
   "execution_count": 47,
   "id": "bb9f0cc4",
   "metadata": {},
   "outputs": [],
   "source": [
    "param_grid_rfc = [{\n",
    "    'rfc__criterion': ['gini', 'entropy'],\n",
    "    'rfc__max_depth': [10, 50],\n",
    "    'rfc__min_samples_leaf': [10, 50],\n",
    "    'rfc__min_samples_split': [5, 50]\n",
    "}]"
   ]
  },
  {
   "cell_type": "code",
   "execution_count": 48,
   "id": "4c203897",
   "metadata": {},
   "outputs": [],
   "source": [
    "rand_search_rfc = RandomizedSearchCV(rfc_pipeline, param_grid_rfc)\n",
    "\n",
    "rand_search_rfc.fit(X_train, y_train)\n",
    "train_rand_search_rfc = rand_search_rfc.predict(X_train)"
   ]
  },
  {
   "cell_type": "code",
   "execution_count": 49,
   "id": "51e9e4ff",
   "metadata": {},
   "outputs": [
    {
     "name": "stdout",
     "output_type": "stream",
     "text": [
      "              precision    recall  f1-score   support\n",
      "\n",
      "Not Bankrupt       1.00      0.97      0.98      5286\n",
      "    Bankrupt       0.97      1.00      0.98      5286\n",
      "\n",
      "    accuracy                           0.98     10572\n",
      "   macro avg       0.99      0.98      0.98     10572\n",
      "weighted avg       0.99      0.98      0.98     10572\n",
      "\n"
     ]
    }
   ],
   "source": [
    "print(classification_report(y_train, train_rand_search_rfc, target_names=bankrupt_labels))"
   ]
  },
  {
   "cell_type": "code",
   "execution_count": 50,
   "id": "567cb883",
   "metadata": {},
   "outputs": [],
   "source": [
    "#test sample random search decision tree\n",
    "test_rand_search_rfc = rand_search_rfc.predict(X_test)"
   ]
  },
  {
   "cell_type": "code",
   "execution_count": 51,
   "id": "8ab4be93",
   "metadata": {
    "scrolled": true
   },
   "outputs": [
    {
     "name": "stdout",
     "output_type": "stream",
     "text": [
      "              precision    recall  f1-score   support\n",
      "\n",
      "Not Bankrupt       0.99      0.95      0.97      1313\n",
      "    Bankrupt       0.36      0.80      0.50        51\n",
      "\n",
      "    accuracy                           0.94      1364\n",
      "   macro avg       0.68      0.87      0.73      1364\n",
      "weighted avg       0.97      0.94      0.95      1364\n",
      "\n"
     ]
    }
   ],
   "source": [
    "print(classification_report(y_test, test_rand_search_rfc, target_names=bankrupt_labels))"
   ]
  },
  {
   "cell_type": "markdown",
   "id": "85da10d2",
   "metadata": {},
   "source": [
    "### -------"
   ]
  },
  {
   "cell_type": "code",
   "execution_count": 52,
   "id": "ef4f389b",
   "metadata": {},
   "outputs": [
    {
     "data": {
      "text/plain": [
       "RandomForestClassifier()"
      ]
     },
     "execution_count": 52,
     "metadata": {},
     "output_type": "execute_result"
    }
   ],
   "source": [
    "rfc = RandomForestClassifier()\n",
    "rfc.fit(X_train, y_train)"
   ]
  },
  {
   "cell_type": "code",
   "execution_count": 53,
   "id": "c28168e5",
   "metadata": {},
   "outputs": [],
   "source": [
    "#random forest train set model\n",
    "train_rfc = rfc.predict(X_train)"
   ]
  },
  {
   "cell_type": "code",
   "execution_count": 54,
   "id": "4fe84a79",
   "metadata": {},
   "outputs": [
    {
     "name": "stdout",
     "output_type": "stream",
     "text": [
      "              precision    recall  f1-score   support\n",
      "\n",
      "Not Bankrupt       1.00      1.00      1.00      5286\n",
      "    Bankrupt       1.00      1.00      1.00      5286\n",
      "\n",
      "    accuracy                           1.00     10572\n",
      "   macro avg       1.00      1.00      1.00     10572\n",
      "weighted avg       1.00      1.00      1.00     10572\n",
      "\n"
     ]
    }
   ],
   "source": [
    "print(classification_report(y_train, train_rfc, target_names=bankrupt_labels))"
   ]
  },
  {
   "cell_type": "code",
   "execution_count": 55,
   "id": "e4ef3047",
   "metadata": {},
   "outputs": [],
   "source": [
    "#random forest test set model\n",
    "test_rfc = rfc.predict(X_test)"
   ]
  },
  {
   "cell_type": "code",
   "execution_count": 56,
   "id": "75bbac5b",
   "metadata": {},
   "outputs": [
    {
     "data": {
      "text/plain": [
       "<sklearn.metrics._plot.confusion_matrix.ConfusionMatrixDisplay at 0x1ada05dc3d0>"
      ]
     },
     "execution_count": 56,
     "metadata": {},
     "output_type": "execute_result"
    },
    {
     "data": {
      "image/png": "[encoded data removed]",
      "text/plain": [
       "<Figure size 432x288 with 2 Axes>"
      ]
     },
     "metadata": {
      "needs_background": "light"
     },
     "output_type": "display_data"
    }
   ],
   "source": [
    "plot_confusion_matrix(rfc, X_test, y_test, display_labels=bankrupt_labels, cmap=plt.cm.Reds)"
   ]
  },
  {
   "cell_type": "code",
   "execution_count": 57,
   "id": "4f39ca6e",
   "metadata": {
    "scrolled": false
   },
   "outputs": [
    {
     "name": "stdout",
     "output_type": "stream",
     "text": [
      "              precision    recall  f1-score   support\n",
      "\n",
      "Not Bankrupt       0.98      0.97      0.98      1313\n",
      "    Bankrupt       0.44      0.55      0.49        51\n",
      "\n",
      "    accuracy                           0.96      1364\n",
      "   macro avg       0.71      0.76      0.73      1364\n",
      "weighted avg       0.96      0.96      0.96      1364\n",
      "\n"
     ]
    }
   ],
   "source": [
    "print(classification_report(y_test, test_rfc, target_names=bankrupt_labels))"
   ]
  },
  {
   "cell_type": "code",
   "execution_count": null,
   "id": "6b30ce07",
   "metadata": {},
   "outputs": [],
   "source": []
  },
  {
   "cell_type": "code",
   "execution_count": 58,
   "id": "f827155d",
   "metadata": {
    "scrolled": false
   },
   "outputs": [
    {
     "name": "stdout",
     "output_type": "stream",
     "text": [
      "[0.96350365 0.96350365 0.95620438 0.95620438 0.96323529 0.97058824\n",
      " 0.96323529 0.96323529 0.96323529 0.94852941]\n"
     ]
    }
   ],
   "source": [
    "print(cross_val_score(rfc, X_test, y_test, scoring='accuracy', cv=10))"
   ]
  },
  {
   "cell_type": "code",
   "execution_count": 59,
   "id": "0b17ba0d",
   "metadata": {},
   "outputs": [
    {
     "name": "stdout",
     "output_type": "stream",
     "text": [
      "0.9618720480893087\n"
     ]
    }
   ],
   "source": [
    "print(cross_val_score(rfc, X_test, y_test, scoring='accuracy', cv=10).mean())"
   ]
  },
  {
   "cell_type": "code",
   "execution_count": 60,
   "id": "6301412f",
   "metadata": {},
   "outputs": [
    {
     "name": "stdout",
     "output_type": "stream",
     "text": [
      "0.008362648590138124\n"
     ]
    }
   ],
   "source": [
    "print(cross_val_score(rfc, X_test, y_test, scoring='accuracy', cv=10).std())"
   ]
  },
  {
   "cell_type": "code",
   "execution_count": 61,
   "id": "8aa3ffab",
   "metadata": {},
   "outputs": [
    {
     "name": "stdout",
     "output_type": "stream",
     "text": [
      "Mean Absolute Error: 0.04325513196480939\n",
      "Mean Squared Error: 0.04325513196480939\n",
      "Root Mean Squared Error: 0.20797868151522017\n"
     ]
    }
   ],
   "source": [
    "print('Mean Absolute Error:', mean_absolute_error(y_test, test_rfc))\n",
    "print('Mean Squared Error:', mean_squared_error(y_test, test_rfc))  \n",
    "print('Root Mean Squared Error:', np.sqrt(mean_squared_error(y_test, test_rfc)))"
   ]
  },
  {
   "cell_type": "code",
   "execution_count": 62,
   "id": "4b080236",
   "metadata": {},
   "outputs": [
    {
     "data": {
      "text/plain": [
       "0.4375"
      ]
     },
     "execution_count": 62,
     "metadata": {},
     "output_type": "execute_result"
    }
   ],
   "source": [
    "precision_score(y_test, test_rfc)"
   ]
  },
  {
   "cell_type": "code",
   "execution_count": 63,
   "id": "8eddd5ee",
   "metadata": {},
   "outputs": [
    {
     "data": {
      "text/plain": [
       "0.5490196078431373"
      ]
     },
     "execution_count": 63,
     "metadata": {},
     "output_type": "execute_result"
    }
   ],
   "source": [
    "recall_score(y_test, test_rfc)"
   ]
  },
  {
   "cell_type": "code",
   "execution_count": 64,
   "id": "b35b50d2",
   "metadata": {
    "scrolled": true
   },
   "outputs": [
    {
     "data": {
      "text/plain": [
       "0.48695652173913045"
      ]
     },
     "execution_count": 64,
     "metadata": {},
     "output_type": "execute_result"
    }
   ],
   "source": [
    "f1_score(y_test, test_rfc)"
   ]
  },
  {
   "cell_type": "code",
   "execution_count": null,
   "id": "30bb5705",
   "metadata": {},
   "outputs": [],
   "source": []
  },
  {
   "cell_type": "markdown",
   "id": "f7028173",
   "metadata": {},
   "source": [
    "### Adaboost Classifier"
   ]
  },
  {
   "cell_type": "code",
   "execution_count": 65,
   "id": "3b9994cf",
   "metadata": {},
   "outputs": [],
   "source": [
    "#pipeline decision tree\n",
    "abc_pipeline = Pipeline([\n",
    "    ('ss', StandardScaler()),\n",
    "    ('abc', AdaBoostClassifier())\n",
    "])"
   ]
  },
  {
   "cell_type": "code",
   "execution_count": 66,
   "id": "740c4afc",
   "metadata": {},
   "outputs": [
    {
     "data": {
      "text/plain": [
       "Pipeline(steps=[('ss', StandardScaler()), ('abc', AdaBoostClassifier())])"
      ]
     },
     "execution_count": 66,
     "metadata": {},
     "output_type": "execute_result"
    }
   ],
   "source": [
    "abc_pipeline.fit(X_train, y_train)"
   ]
  },
  {
   "cell_type": "code",
   "execution_count": 67,
   "id": "340997af",
   "metadata": {},
   "outputs": [
    {
     "data": {
      "text/plain": [
       "dict_keys(['memory', 'steps', 'verbose', 'ss', 'abc', 'ss__copy', 'ss__with_mean', 'ss__with_std', 'abc__algorithm', 'abc__base_estimator', 'abc__learning_rate', 'abc__n_estimators', 'abc__random_state'])"
      ]
     },
     "execution_count": 67,
     "metadata": {},
     "output_type": "execute_result"
    }
   ],
   "source": [
    "abc_pipeline.get_params().keys()"
   ]
  },
  {
   "cell_type": "code",
   "execution_count": 68,
   "id": "ecb58c0d",
   "metadata": {},
   "outputs": [],
   "source": [
    "param_grid_abc = [{\n",
    "    'abc__random_state': [5, 42]\n",
    "}]"
   ]
  },
  {
   "cell_type": "code",
   "execution_count": 69,
   "id": "d7284e3b",
   "metadata": {},
   "outputs": [],
   "source": [
    "rand_search_abc = RandomizedSearchCV(abc_pipeline, param_grid_abc)\n",
    "\n",
    "rand_search_abc.fit(X_train, y_train)\n",
    "train_rand_search_abc = rand_search_abc.predict(X_train)"
   ]
  },
  {
   "cell_type": "code",
   "execution_count": 70,
   "id": "096eb26a",
   "metadata": {},
   "outputs": [
    {
     "name": "stdout",
     "output_type": "stream",
     "text": [
      "              precision    recall  f1-score   support\n",
      "\n",
      "Not Bankrupt       0.96      0.93      0.95      5286\n",
      "    Bankrupt       0.94      0.96      0.95      5286\n",
      "\n",
      "    accuracy                           0.95     10572\n",
      "   macro avg       0.95      0.95      0.95     10572\n",
      "weighted avg       0.95      0.95      0.95     10572\n",
      "\n"
     ]
    }
   ],
   "source": [
    "print(classification_report(y_train, train_rand_search_abc, target_names=bankrupt_labels))"
   ]
  },
  {
   "cell_type": "code",
   "execution_count": 71,
   "id": "4c0dbf0b",
   "metadata": {},
   "outputs": [],
   "source": [
    "#test sample random search decision tree\n",
    "test_rand_search_abc = rand_search_abc.predict(X_test)"
   ]
  },
  {
   "cell_type": "code",
   "execution_count": 72,
   "id": "2a77d175",
   "metadata": {
    "scrolled": true
   },
   "outputs": [
    {
     "name": "stdout",
     "output_type": "stream",
     "text": [
      "              precision    recall  f1-score   support\n",
      "\n",
      "Not Bankrupt       0.99      0.92      0.96      1313\n",
      "    Bankrupt       0.28      0.76      0.41        51\n",
      "\n",
      "    accuracy                           0.92      1364\n",
      "   macro avg       0.64      0.84      0.68      1364\n",
      "weighted avg       0.96      0.92      0.94      1364\n",
      "\n"
     ]
    }
   ],
   "source": [
    "print(classification_report(y_test, test_rand_search_abc, target_names=bankrupt_labels))"
   ]
  },
  {
   "cell_type": "markdown",
   "id": "f37a3162",
   "metadata": {},
   "source": [
    "### -------"
   ]
  },
  {
   "cell_type": "code",
   "execution_count": 73,
   "id": "e1ee0325",
   "metadata": {},
   "outputs": [
    {
     "data": {
      "text/plain": [
       "AdaBoostClassifier()"
      ]
     },
     "execution_count": 73,
     "metadata": {},
     "output_type": "execute_result"
    }
   ],
   "source": [
    "abc = AdaBoostClassifier()\n",
    "abc.fit(X_train, y_train)"
   ]
  },
  {
   "cell_type": "code",
   "execution_count": 74,
   "id": "f3aeca77",
   "metadata": {},
   "outputs": [],
   "source": [
    "train_abc = abc.predict(X_train)"
   ]
  },
  {
   "cell_type": "code",
   "execution_count": 75,
   "id": "1bb1f6ff",
   "metadata": {},
   "outputs": [
    {
     "name": "stdout",
     "output_type": "stream",
     "text": [
      "              precision    recall  f1-score   support\n",
      "\n",
      "Not Bankrupt       0.96      0.94      0.95      5286\n",
      "    Bankrupt       0.94      0.96      0.95      5286\n",
      "\n",
      "    accuracy                           0.95     10572\n",
      "   macro avg       0.95      0.95      0.95     10572\n",
      "weighted avg       0.95      0.95      0.95     10572\n",
      "\n"
     ]
    }
   ],
   "source": [
    "print(classification_report(y_train, train_abc, target_names=bankrupt_labels))"
   ]
  },
  {
   "cell_type": "code",
   "execution_count": 76,
   "id": "03f389ad",
   "metadata": {},
   "outputs": [],
   "source": [
    "#adaboost test set model\n",
    "test_abc = abc.predict(X_test)"
   ]
  },
  {
   "cell_type": "code",
   "execution_count": 77,
   "id": "535fb48f",
   "metadata": {},
   "outputs": [
    {
     "data": {
      "text/plain": [
       "<sklearn.metrics._plot.confusion_matrix.ConfusionMatrixDisplay at 0x1ada002f9d0>"
      ]
     },
     "execution_count": 77,
     "metadata": {},
     "output_type": "execute_result"
    },
    {
     "data": {
      "image/png": "[encoded data removed]",
      "text/plain": [
       "<Figure size 432x288 with 2 Axes>"
      ]
     },
     "metadata": {
      "needs_background": "light"
     },
     "output_type": "display_data"
    }
   ],
   "source": [
    "plot_confusion_matrix(abc, X_test, y_test, display_labels=bankrupt_labels, cmap=plt.cm.YlGn)"
   ]
  },
  {
   "cell_type": "code",
   "execution_count": 78,
   "id": "a931415e",
   "metadata": {
    "scrolled": true
   },
   "outputs": [
    {
     "name": "stdout",
     "output_type": "stream",
     "text": [
      "              precision    recall  f1-score   support\n",
      "\n",
      "Not Bankrupt       0.99      0.94      0.96      1313\n",
      "    Bankrupt       0.29      0.65      0.40        51\n",
      "\n",
      "    accuracy                           0.93      1364\n",
      "   macro avg       0.64      0.79      0.68      1364\n",
      "weighted avg       0.96      0.93      0.94      1364\n",
      "\n"
     ]
    }
   ],
   "source": [
    "print(classification_report(y_test, test_abc, target_names=bankrupt_labels))"
   ]
  },
  {
   "cell_type": "code",
   "execution_count": null,
   "id": "f0caf1fc",
   "metadata": {},
   "outputs": [],
   "source": []
  },
  {
   "cell_type": "code",
   "execution_count": 79,
   "id": "2635c3a3",
   "metadata": {
    "scrolled": true
   },
   "outputs": [
    {
     "name": "stdout",
     "output_type": "stream",
     "text": [
      "[0.94890511 0.94160584 0.96350365 0.96350365 0.97058824 0.96323529\n",
      " 0.95588235 0.94117647 0.97058824 0.93382353]\n"
     ]
    }
   ],
   "source": [
    "print(cross_val_score(abc, X_test, y_test, scoring='accuracy', cv=10))"
   ]
  },
  {
   "cell_type": "code",
   "execution_count": 80,
   "id": "22711d24",
   "metadata": {},
   "outputs": [
    {
     "name": "stdout",
     "output_type": "stream",
     "text": [
      "0.9552812365822241\n"
     ]
    }
   ],
   "source": [
    "print(cross_val_score(abc, X_test, y_test, scoring='accuracy', cv=10).mean())"
   ]
  },
  {
   "cell_type": "code",
   "execution_count": 81,
   "id": "0c7d17c1",
   "metadata": {},
   "outputs": [
    {
     "name": "stdout",
     "output_type": "stream",
     "text": [
      "0.012467967152775138\n"
     ]
    }
   ],
   "source": [
    "print(cross_val_score(abc, X_test, y_test, scoring='accuracy', cv=10).std())"
   ]
  },
  {
   "cell_type": "code",
   "execution_count": 82,
   "id": "b61caf0f",
   "metadata": {},
   "outputs": [
    {
     "name": "stdout",
     "output_type": "stream",
     "text": [
      "Mean Absolute Error: 0.0718475073313783\n",
      "Mean Squared Error: 0.0718475073313783\n",
      "Root Mean Squared Error: 0.26804385337361925\n"
     ]
    }
   ],
   "source": [
    "print('Mean Absolute Error:', mean_absolute_error(y_test, test_abc))\n",
    "print('Mean Squared Error:', mean_squared_error(y_test, test_abc))  \n",
    "print('Root Mean Squared Error:', np.sqrt(mean_squared_error(y_test, test_abc)))"
   ]
  },
  {
   "cell_type": "code",
   "execution_count": 83,
   "id": "94879695",
   "metadata": {},
   "outputs": [
    {
     "data": {
      "text/plain": [
       "0.2920353982300885"
      ]
     },
     "execution_count": 83,
     "metadata": {},
     "output_type": "execute_result"
    }
   ],
   "source": [
    "precision_score(y_test, test_abc)"
   ]
  },
  {
   "cell_type": "code",
   "execution_count": 84,
   "id": "17e85a69",
   "metadata": {},
   "outputs": [
    {
     "data": {
      "text/plain": [
       "0.6470588235294118"
      ]
     },
     "execution_count": 84,
     "metadata": {},
     "output_type": "execute_result"
    }
   ],
   "source": [
    "recall_score(y_test, test_abc)"
   ]
  },
  {
   "cell_type": "code",
   "execution_count": 85,
   "id": "55d18c7f",
   "metadata": {
    "scrolled": true
   },
   "outputs": [
    {
     "data": {
      "text/plain": [
       "0.4024390243902439"
      ]
     },
     "execution_count": 85,
     "metadata": {},
     "output_type": "execute_result"
    }
   ],
   "source": [
    "f1_score(y_test, test_abc)"
   ]
  },
  {
   "cell_type": "code",
   "execution_count": null,
   "id": "9b6732ff",
   "metadata": {},
   "outputs": [],
   "source": []
  },
  {
   "cell_type": "markdown",
   "id": "52d87a62",
   "metadata": {},
   "source": [
    "### Bagging Classifier"
   ]
  },
  {
   "cell_type": "code",
   "execution_count": 86,
   "id": "58d12ccb",
   "metadata": {},
   "outputs": [],
   "source": [
    "#pipeline decision tree\n",
    "bagc_pipeline = Pipeline([\n",
    "    ('ss', StandardScaler()),\n",
    "    ('bagc', BaggingClassifier())\n",
    "])"
   ]
  },
  {
   "cell_type": "code",
   "execution_count": 87,
   "id": "ac2f02ff",
   "metadata": {},
   "outputs": [
    {
     "data": {
      "text/plain": [
       "Pipeline(steps=[('ss', StandardScaler()), ('bagc', BaggingClassifier())])"
      ]
     },
     "execution_count": 87,
     "metadata": {},
     "output_type": "execute_result"
    }
   ],
   "source": [
    "bagc_pipeline.fit(X_train, y_train)"
   ]
  },
  {
   "cell_type": "code",
   "execution_count": 88,
   "id": "37bffdaa",
   "metadata": {},
   "outputs": [
    {
     "data": {
      "text/plain": [
       "dict_keys(['memory', 'steps', 'verbose', 'ss', 'bagc', 'ss__copy', 'ss__with_mean', 'ss__with_std', 'bagc__base_estimator', 'bagc__bootstrap', 'bagc__bootstrap_features', 'bagc__max_features', 'bagc__max_samples', 'bagc__n_estimators', 'bagc__n_jobs', 'bagc__oob_score', 'bagc__random_state', 'bagc__verbose', 'bagc__warm_start'])"
      ]
     },
     "execution_count": 88,
     "metadata": {},
     "output_type": "execute_result"
    }
   ],
   "source": [
    "bagc_pipeline.get_params().keys()"
   ]
  },
  {
   "cell_type": "code",
   "execution_count": 89,
   "id": "0f8b8b55",
   "metadata": {},
   "outputs": [],
   "source": [
    "param_grid_bagc = [{\n",
    "    'bagc__max_samples': [3000, 2000, 500],\n",
    "    'bagc__random_state': [5, 42]\n",
    "}]"
   ]
  },
  {
   "cell_type": "code",
   "execution_count": 90,
   "id": "c26667bf",
   "metadata": {},
   "outputs": [],
   "source": [
    "rand_search_bagc = RandomizedSearchCV(bagc_pipeline, param_grid_bagc)\n",
    "\n",
    "rand_search_bagc.fit(X_train, y_train)\n",
    "train_rand_search_bagc = rand_search_bagc.predict(X_train)"
   ]
  },
  {
   "cell_type": "code",
   "execution_count": 91,
   "id": "cce28a63",
   "metadata": {},
   "outputs": [
    {
     "name": "stdout",
     "output_type": "stream",
     "text": [
      "              precision    recall  f1-score   support\n",
      "\n",
      "Not Bankrupt       0.99      0.97      0.98      5286\n",
      "    Bankrupt       0.97      0.99      0.98      5286\n",
      "\n",
      "    accuracy                           0.98     10572\n",
      "   macro avg       0.98      0.98      0.98     10572\n",
      "weighted avg       0.98      0.98      0.98     10572\n",
      "\n"
     ]
    }
   ],
   "source": [
    "print(classification_report(y_train, train_rand_search_bagc, target_names=bankrupt_labels))"
   ]
  },
  {
   "cell_type": "code",
   "execution_count": 92,
   "id": "67920d39",
   "metadata": {},
   "outputs": [],
   "source": [
    "#test sample random search decision tree\n",
    "test_rand_search_bagc = rand_search_bagc.predict(X_test)"
   ]
  },
  {
   "cell_type": "code",
   "execution_count": 93,
   "id": "8745a71f",
   "metadata": {
    "scrolled": true
   },
   "outputs": [
    {
     "name": "stdout",
     "output_type": "stream",
     "text": [
      "              precision    recall  f1-score   support\n",
      "\n",
      "Not Bankrupt       0.99      0.95      0.97      1313\n",
      "    Bankrupt       0.35      0.69      0.46        51\n",
      "\n",
      "    accuracy                           0.94      1364\n",
      "   macro avg       0.67      0.82      0.72      1364\n",
      "weighted avg       0.96      0.94      0.95      1364\n",
      "\n"
     ]
    }
   ],
   "source": [
    "print(classification_report(y_test, test_rand_search_bagc, target_names=bankrupt_labels))"
   ]
  },
  {
   "cell_type": "markdown",
   "id": "d403ca32",
   "metadata": {},
   "source": [
    "### -------"
   ]
  },
  {
   "cell_type": "code",
   "execution_count": 94,
   "id": "7a79f591",
   "metadata": {},
   "outputs": [
    {
     "data": {
      "text/plain": [
       "BaggingClassifier()"
      ]
     },
     "execution_count": 94,
     "metadata": {},
     "output_type": "execute_result"
    }
   ],
   "source": [
    "bagc = BaggingClassifier()\n",
    "bagc.fit(X_train, y_train)"
   ]
  },
  {
   "cell_type": "code",
   "execution_count": 95,
   "id": "acadb475",
   "metadata": {},
   "outputs": [],
   "source": [
    "train_bagc = bagc.predict(X_train)"
   ]
  },
  {
   "cell_type": "code",
   "execution_count": 96,
   "id": "c4ec2fa5",
   "metadata": {},
   "outputs": [
    {
     "name": "stdout",
     "output_type": "stream",
     "text": [
      "              precision    recall  f1-score   support\n",
      "\n",
      "Not Bankrupt       1.00      1.00      1.00      5286\n",
      "    Bankrupt       1.00      1.00      1.00      5286\n",
      "\n",
      "    accuracy                           1.00     10572\n",
      "   macro avg       1.00      1.00      1.00     10572\n",
      "weighted avg       1.00      1.00      1.00     10572\n",
      "\n"
     ]
    }
   ],
   "source": [
    "print(classification_report(y_train, train_bagc, target_names=bankrupt_labels))"
   ]
  },
  {
   "cell_type": "code",
   "execution_count": 97,
   "id": "0274f422",
   "metadata": {},
   "outputs": [],
   "source": [
    "#adaboost test set model\n",
    "test_bagc = bagc.predict(X_test)"
   ]
  },
  {
   "cell_type": "code",
   "execution_count": 98,
   "id": "1327724d",
   "metadata": {},
   "outputs": [
    {
     "data": {
      "text/plain": [
       "<sklearn.metrics._plot.confusion_matrix.ConfusionMatrixDisplay at 0x1ada02230d0>"
      ]
     },
     "execution_count": 98,
     "metadata": {},
     "output_type": "execute_result"
    },
    {
     "data": {
      "image/png": "[encoded data removed]",
      "text/plain": [
       "<Figure size 432x288 with 2 Axes>"
      ]
     },
     "metadata": {
      "needs_background": "light"
     },
     "output_type": "display_data"
    }
   ],
   "source": [
    "plot_confusion_matrix(bagc, X_test, y_test, display_labels=bankrupt_labels, cmap=plt.cm.Greys)"
   ]
  },
  {
   "cell_type": "code",
   "execution_count": 99,
   "id": "ddfe4571",
   "metadata": {
    "scrolled": false
   },
   "outputs": [
    {
     "name": "stdout",
     "output_type": "stream",
     "text": [
      "              precision    recall  f1-score   support\n",
      "\n",
      "Not Bankrupt       0.98      0.97      0.97      1313\n",
      "    Bankrupt       0.38      0.47      0.42        51\n",
      "\n",
      "    accuracy                           0.95      1364\n",
      "   macro avg       0.68      0.72      0.70      1364\n",
      "weighted avg       0.96      0.95      0.95      1364\n",
      "\n"
     ]
    }
   ],
   "source": [
    "print(classification_report(y_test, test_bagc, target_names=bankrupt_labels))"
   ]
  },
  {
   "cell_type": "code",
   "execution_count": null,
   "id": "e70775b0",
   "metadata": {},
   "outputs": [],
   "source": []
  },
  {
   "cell_type": "code",
   "execution_count": 100,
   "id": "b7451951",
   "metadata": {
    "scrolled": false
   },
   "outputs": [
    {
     "name": "stdout",
     "output_type": "stream",
     "text": [
      "[0.97810219 0.96350365 0.96350365 0.96350365 0.95588235 0.96323529\n",
      " 0.96323529 0.94117647 0.95588235 0.95588235]\n"
     ]
    }
   ],
   "source": [
    "print(cross_val_score(bagc, X_test, y_test, scoring='accuracy', cv=10))"
   ]
  },
  {
   "cell_type": "code",
   "execution_count": 101,
   "id": "1bdebe97",
   "metadata": {},
   "outputs": [
    {
     "name": "stdout",
     "output_type": "stream",
     "text": [
      "0.961126019750966\n"
     ]
    }
   ],
   "source": [
    "print(cross_val_score(bagc, X_test, y_test, scoring='accuracy', cv=10).mean())"
   ]
  },
  {
   "cell_type": "code",
   "execution_count": 102,
   "id": "bfeae5ea",
   "metadata": {},
   "outputs": [
    {
     "name": "stdout",
     "output_type": "stream",
     "text": [
      "0.007173963661026122\n"
     ]
    }
   ],
   "source": [
    "print(cross_val_score(bagc, X_test, y_test, scoring='accuracy', cv=10).std())"
   ]
  },
  {
   "cell_type": "code",
   "execution_count": 103,
   "id": "e32ac0b9",
   "metadata": {},
   "outputs": [
    {
     "name": "stdout",
     "output_type": "stream",
     "text": [
      "Mean Absolute Error: 0.04838709677419355\n",
      "Mean Squared Error: 0.04838709677419355\n",
      "Root Mean Squared Error: 0.21997067253202993\n"
     ]
    }
   ],
   "source": [
    "print('Mean Absolute Error:', mean_absolute_error(y_test, test_bagc))\n",
    "print('Mean Squared Error:', mean_squared_error(y_test, test_bagc))  \n",
    "print('Root Mean Squared Error:', np.sqrt(mean_squared_error(y_test, test_bagc)))"
   ]
  },
  {
   "cell_type": "code",
   "execution_count": 104,
   "id": "bedb0e29",
   "metadata": {},
   "outputs": [
    {
     "data": {
      "text/plain": [
       "0.38095238095238093"
      ]
     },
     "execution_count": 104,
     "metadata": {},
     "output_type": "execute_result"
    }
   ],
   "source": [
    "precision_score(y_test, test_bagc)"
   ]
  },
  {
   "cell_type": "code",
   "execution_count": 105,
   "id": "f19a19f8",
   "metadata": {},
   "outputs": [
    {
     "data": {
      "text/plain": [
       "0.47058823529411764"
      ]
     },
     "execution_count": 105,
     "metadata": {},
     "output_type": "execute_result"
    }
   ],
   "source": [
    "recall_score(y_test, test_bagc)"
   ]
  },
  {
   "cell_type": "code",
   "execution_count": 106,
   "id": "51bcdfaf",
   "metadata": {
    "scrolled": true
   },
   "outputs": [
    {
     "data": {
      "text/plain": [
       "0.42105263157894735"
      ]
     },
     "execution_count": 106,
     "metadata": {},
     "output_type": "execute_result"
    }
   ],
   "source": [
    "f1_score(y_test, test_bagc)"
   ]
  },
  {
   "cell_type": "code",
   "execution_count": null,
   "id": "fb7367c0",
   "metadata": {},
   "outputs": [],
   "source": []
  },
  {
   "cell_type": "markdown",
   "id": "adbad885",
   "metadata": {},
   "source": [
    "### Gradient Boosting"
   ]
  },
  {
   "cell_type": "code",
   "execution_count": 107,
   "id": "de72b402",
   "metadata": {},
   "outputs": [],
   "source": [
    "#pipeline decision tree\n",
    "gbc_pipeline = Pipeline([\n",
    "    ('ss', StandardScaler()),\n",
    "    ('gbc', GradientBoostingClassifier())\n",
    "])"
   ]
  },
  {
   "cell_type": "code",
   "execution_count": 108,
   "id": "042699db",
   "metadata": {},
   "outputs": [
    {
     "data": {
      "text/plain": [
       "Pipeline(steps=[('ss', StandardScaler()),\n",
       "                ('gbc', GradientBoostingClassifier())])"
      ]
     },
     "execution_count": 108,
     "metadata": {},
     "output_type": "execute_result"
    }
   ],
   "source": [
    "gbc_pipeline.fit(X_train, y_train)"
   ]
  },
  {
   "cell_type": "code",
   "execution_count": 109,
   "id": "7732537e",
   "metadata": {},
   "outputs": [
    {
     "data": {
      "text/plain": [
       "dict_keys(['memory', 'steps', 'verbose', 'ss', 'gbc', 'ss__copy', 'ss__with_mean', 'ss__with_std', 'gbc__ccp_alpha', 'gbc__criterion', 'gbc__init', 'gbc__learning_rate', 'gbc__loss', 'gbc__max_depth', 'gbc__max_features', 'gbc__max_leaf_nodes', 'gbc__min_impurity_decrease', 'gbc__min_impurity_split', 'gbc__min_samples_leaf', 'gbc__min_samples_split', 'gbc__min_weight_fraction_leaf', 'gbc__n_estimators', 'gbc__n_iter_no_change', 'gbc__random_state', 'gbc__subsample', 'gbc__tol', 'gbc__validation_fraction', 'gbc__verbose', 'gbc__warm_start'])"
      ]
     },
     "execution_count": 109,
     "metadata": {},
     "output_type": "execute_result"
    }
   ],
   "source": [
    "gbc_pipeline.get_params().keys()"
   ]
  },
  {
   "cell_type": "code",
   "execution_count": 110,
   "id": "1c2c696f",
   "metadata": {},
   "outputs": [],
   "source": [
    "param_grid_gbc = [{\n",
    "    'gbc__criterion': ['friedman_mse', 'squared_error'],\n",
    "    'gbc__min_samples_leaf': [10, 50],\n",
    "    'gbc__min_samples_split': [10, 50]\n",
    "}]"
   ]
  },
  {
   "cell_type": "code",
   "execution_count": 111,
   "id": "33a13925",
   "metadata": {},
   "outputs": [],
   "source": [
    "rand_search_gbc = RandomizedSearchCV(gbc_pipeline, param_grid_gbc)\n",
    "\n",
    "rand_search_gbc.fit(X_train, y_train)\n",
    "train_rand_search_gbc = rand_search_gbc.predict(X_train)"
   ]
  },
  {
   "cell_type": "code",
   "execution_count": 112,
   "id": "57360ab3",
   "metadata": {},
   "outputs": [
    {
     "name": "stdout",
     "output_type": "stream",
     "text": [
      "              precision    recall  f1-score   support\n",
      "\n",
      "Not Bankrupt       0.99      0.96      0.97      5286\n",
      "    Bankrupt       0.96      0.99      0.97      5286\n",
      "\n",
      "    accuracy                           0.97     10572\n",
      "   macro avg       0.97      0.97      0.97     10572\n",
      "weighted avg       0.97      0.97      0.97     10572\n",
      "\n"
     ]
    }
   ],
   "source": [
    "print(classification_report(y_train, train_rand_search_gbc, target_names=bankrupt_labels))"
   ]
  },
  {
   "cell_type": "code",
   "execution_count": 113,
   "id": "ff8589cc",
   "metadata": {},
   "outputs": [],
   "source": [
    "#test sample random search decision tree\n",
    "test_rand_search_gbc = rand_search_gbc.predict(X_test)"
   ]
  },
  {
   "cell_type": "code",
   "execution_count": 114,
   "id": "3a29a920",
   "metadata": {
    "scrolled": true
   },
   "outputs": [
    {
     "name": "stdout",
     "output_type": "stream",
     "text": [
      "              precision    recall  f1-score   support\n",
      "\n",
      "Not Bankrupt       0.99      0.95      0.97      1313\n",
      "    Bankrupt       0.36      0.75      0.48        51\n",
      "\n",
      "    accuracy                           0.94      1364\n",
      "   macro avg       0.67      0.85      0.73      1364\n",
      "weighted avg       0.97      0.94      0.95      1364\n",
      "\n"
     ]
    }
   ],
   "source": [
    "print(classification_report(y_test, test_rand_search_gbc, target_names=bankrupt_labels))"
   ]
  },
  {
   "cell_type": "markdown",
   "id": "a8f60569",
   "metadata": {},
   "source": [
    "### -------"
   ]
  },
  {
   "cell_type": "code",
   "execution_count": 115,
   "id": "90c64b64",
   "metadata": {},
   "outputs": [
    {
     "data": {
      "text/plain": [
       "GradientBoostingClassifier()"
      ]
     },
     "execution_count": 115,
     "metadata": {},
     "output_type": "execute_result"
    }
   ],
   "source": [
    "gbc = GradientBoostingClassifier()\n",
    "gbc.fit(X_train, y_train)"
   ]
  },
  {
   "cell_type": "code",
   "execution_count": 116,
   "id": "0743533d",
   "metadata": {},
   "outputs": [],
   "source": [
    "train_gbc = gbc.predict(X_train)"
   ]
  },
  {
   "cell_type": "code",
   "execution_count": 117,
   "id": "4b79dc87",
   "metadata": {},
   "outputs": [
    {
     "name": "stdout",
     "output_type": "stream",
     "text": [
      "              precision    recall  f1-score   support\n",
      "\n",
      "Not Bankrupt       0.99      0.97      0.98      5286\n",
      "    Bankrupt       0.97      0.99      0.98      5286\n",
      "\n",
      "    accuracy                           0.98     10572\n",
      "   macro avg       0.98      0.98      0.98     10572\n",
      "weighted avg       0.98      0.98      0.98     10572\n",
      "\n"
     ]
    }
   ],
   "source": [
    "print(classification_report(y_train, train_gbc, target_names=bankrupt_labels))"
   ]
  },
  {
   "cell_type": "code",
   "execution_count": 118,
   "id": "5778dd7e",
   "metadata": {},
   "outputs": [],
   "source": [
    "#gradient test set model\n",
    "test_gbc = gbc.predict(X_test)"
   ]
  },
  {
   "cell_type": "code",
   "execution_count": 119,
   "id": "710ccc4a",
   "metadata": {},
   "outputs": [
    {
     "data": {
      "text/plain": [
       "<sklearn.metrics._plot.confusion_matrix.ConfusionMatrixDisplay at 0x1ada02b3d90>"
      ]
     },
     "execution_count": 119,
     "metadata": {},
     "output_type": "execute_result"
    },
    {
     "data": {
      "image/png": "[encoded data removed]",
      "text/plain": [
       "<Figure size 432x288 with 2 Axes>"
      ]
     },
     "metadata": {
      "needs_background": "light"
     },
     "output_type": "display_data"
    }
   ],
   "source": [
    "plot_confusion_matrix(gbc, X_test, y_test, display_labels=bankrupt_labels, cmap=plt.cm.autumn)"
   ]
  },
  {
   "cell_type": "code",
   "execution_count": 120,
   "id": "8ade7870",
   "metadata": {
    "scrolled": true
   },
   "outputs": [
    {
     "name": "stdout",
     "output_type": "stream",
     "text": [
      "              precision    recall  f1-score   support\n",
      "\n",
      "Not Bankrupt       0.99      0.95      0.97      1313\n",
      "    Bankrupt       0.36      0.75      0.48        51\n",
      "\n",
      "    accuracy                           0.94      1364\n",
      "   macro avg       0.67      0.85      0.72      1364\n",
      "weighted avg       0.97      0.94      0.95      1364\n",
      "\n"
     ]
    }
   ],
   "source": [
    "print(classification_report(y_test, test_gbc, target_names=bankrupt_labels))"
   ]
  },
  {
   "cell_type": "code",
   "execution_count": null,
   "id": "ac4dfdac",
   "metadata": {},
   "outputs": [],
   "source": []
  },
  {
   "cell_type": "code",
   "execution_count": 121,
   "id": "229a409c",
   "metadata": {
    "scrolled": false
   },
   "outputs": [
    {
     "name": "stdout",
     "output_type": "stream",
     "text": [
      "[0.96350365 0.97080292 0.97810219 0.96350365 0.95588235 0.97794118\n",
      " 0.97058824 0.94117647 0.97058824 0.94117647]\n"
     ]
    }
   ],
   "source": [
    "print(cross_val_score(gbc, X_test, y_test, scoring='accuracy', cv=10))"
   ]
  },
  {
   "cell_type": "code",
   "execution_count": 122,
   "id": "3127b596",
   "metadata": {},
   "outputs": [
    {
     "name": "stdout",
     "output_type": "stream",
     "text": [
      "0.9625912408759124\n"
     ]
    }
   ],
   "source": [
    "print(cross_val_score(gbc, X_test, y_test, scoring='accuracy', cv=10).mean())"
   ]
  },
  {
   "cell_type": "code",
   "execution_count": 123,
   "id": "c0c0a2f2",
   "metadata": {},
   "outputs": [
    {
     "name": "stdout",
     "output_type": "stream",
     "text": [
      "0.011659157516251776\n"
     ]
    }
   ],
   "source": [
    "print(cross_val_score(gbc, X_test, y_test, scoring='accuracy', cv=10).std())"
   ]
  },
  {
   "cell_type": "code",
   "execution_count": 124,
   "id": "08988f36",
   "metadata": {},
   "outputs": [
    {
     "name": "stdout",
     "output_type": "stream",
     "text": [
      "Mean Absolute Error: 0.060117302052785926\n",
      "Mean Squared Error: 0.060117302052785926\n",
      "Root Mean Squared Error: 0.24518829917593116\n"
     ]
    }
   ],
   "source": [
    "print('Mean Absolute Error:', mean_absolute_error(y_test, test_gbc))\n",
    "print('Mean Squared Error:', mean_squared_error(y_test, test_gbc))  \n",
    "print('Root Mean Squared Error:', np.sqrt(mean_squared_error(y_test, test_gbc)))"
   ]
  },
  {
   "cell_type": "code",
   "execution_count": 125,
   "id": "65191dbf",
   "metadata": {},
   "outputs": [
    {
     "data": {
      "text/plain": [
       "0.35514018691588783"
      ]
     },
     "execution_count": 125,
     "metadata": {},
     "output_type": "execute_result"
    }
   ],
   "source": [
    "precision_score(y_test, test_gbc)"
   ]
  },
  {
   "cell_type": "code",
   "execution_count": 126,
   "id": "4ae005b4",
   "metadata": {},
   "outputs": [
    {
     "data": {
      "text/plain": [
       "0.7450980392156863"
      ]
     },
     "execution_count": 126,
     "metadata": {},
     "output_type": "execute_result"
    }
   ],
   "source": [
    "recall_score(y_test, test_gbc)"
   ]
  },
  {
   "cell_type": "code",
   "execution_count": 127,
   "id": "2225487d",
   "metadata": {
    "scrolled": true
   },
   "outputs": [
    {
     "data": {
      "text/plain": [
       "0.48101265822784806"
      ]
     },
     "execution_count": 127,
     "metadata": {},
     "output_type": "execute_result"
    }
   ],
   "source": [
    "f1_score(y_test, test_gbc)"
   ]
  },
  {
   "cell_type": "code",
   "execution_count": null,
   "id": "8ce55d4f",
   "metadata": {},
   "outputs": [],
   "source": []
  },
  {
   "cell_type": "markdown",
   "id": "7eae0aa6",
   "metadata": {},
   "source": [
    "### KNeighbors Classifier"
   ]
  },
  {
   "cell_type": "code",
   "execution_count": 128,
   "id": "325abeb7",
   "metadata": {},
   "outputs": [],
   "source": [
    "#pipeline decision tree\n",
    "knc_pipeline = Pipeline([\n",
    "    ('ss', StandardScaler()),\n",
    "    ('knc', KNeighborsClassifier())\n",
    "])"
   ]
  },
  {
   "cell_type": "code",
   "execution_count": 129,
   "id": "299d2aaa",
   "metadata": {},
   "outputs": [
    {
     "data": {
      "text/plain": [
       "Pipeline(steps=[('ss', StandardScaler()), ('knc', KNeighborsClassifier())])"
      ]
     },
     "execution_count": 129,
     "metadata": {},
     "output_type": "execute_result"
    }
   ],
   "source": [
    "knc_pipeline.fit(X_train, y_train)"
   ]
  },
  {
   "cell_type": "code",
   "execution_count": 130,
   "id": "545176e3",
   "metadata": {},
   "outputs": [
    {
     "data": {
      "text/plain": [
       "dict_keys(['memory', 'steps', 'verbose', 'ss', 'knc', 'ss__copy', 'ss__with_mean', 'ss__with_std', 'knc__algorithm', 'knc__leaf_size', 'knc__metric', 'knc__metric_params', 'knc__n_jobs', 'knc__n_neighbors', 'knc__p', 'knc__weights'])"
      ]
     },
     "execution_count": 130,
     "metadata": {},
     "output_type": "execute_result"
    }
   ],
   "source": [
    "knc_pipeline.get_params().keys()"
   ]
  },
  {
   "cell_type": "code",
   "execution_count": 131,
   "id": "487ce871",
   "metadata": {},
   "outputs": [],
   "source": [
    "param_grid_knc = [{\n",
    "    'knc__metric' : ['manhattan', 'euclidiean', 'minkowski'],\n",
    "    'knc__leaf_size': [1, 5, 10],\n",
    "    'knc__n_jobs': [1, 3, 5],\n",
    "    'knc__n_neighbors': [1, 3, 5]\n",
    "}]"
   ]
  },
  {
   "cell_type": "code",
   "execution_count": 132,
   "id": "5cfe2674",
   "metadata": {},
   "outputs": [],
   "source": [
    "rand_search_knc = RandomizedSearchCV(knc_pipeline, param_grid_knc)\n",
    "\n",
    "rand_search_knc.fit(X_train, y_train)\n",
    "train_rand_search_knc = rand_search_knc.predict(X_train)"
   ]
  },
  {
   "cell_type": "code",
   "execution_count": 133,
   "id": "48c2a961",
   "metadata": {},
   "outputs": [
    {
     "name": "stdout",
     "output_type": "stream",
     "text": [
      "              precision    recall  f1-score   support\n",
      "\n",
      "Not Bankrupt       1.00      1.00      1.00      5286\n",
      "    Bankrupt       1.00      1.00      1.00      5286\n",
      "\n",
      "    accuracy                           1.00     10572\n",
      "   macro avg       1.00      1.00      1.00     10572\n",
      "weighted avg       1.00      1.00      1.00     10572\n",
      "\n"
     ]
    }
   ],
   "source": [
    "print(classification_report(y_train, train_rand_search_knc, target_names=bankrupt_labels))"
   ]
  },
  {
   "cell_type": "code",
   "execution_count": 134,
   "id": "0bc4a244",
   "metadata": {},
   "outputs": [],
   "source": [
    "#test sample random search decision tree\n",
    "test_rand_search_knc = rand_search_knc.predict(X_test)"
   ]
  },
  {
   "cell_type": "code",
   "execution_count": 135,
   "id": "9e93b667",
   "metadata": {
    "scrolled": true
   },
   "outputs": [
    {
     "name": "stdout",
     "output_type": "stream",
     "text": [
      "              precision    recall  f1-score   support\n",
      "\n",
      "Not Bankrupt       0.98      0.95      0.96      1313\n",
      "    Bankrupt       0.28      0.53      0.37        51\n",
      "\n",
      "    accuracy                           0.93      1364\n",
      "   macro avg       0.63      0.74      0.67      1364\n",
      "weighted avg       0.95      0.93      0.94      1364\n",
      "\n"
     ]
    }
   ],
   "source": [
    "print(classification_report(y_test, test_rand_search_knc, target_names=bankrupt_labels))"
   ]
  },
  {
   "cell_type": "markdown",
   "id": "012ca21d",
   "metadata": {},
   "source": [
    "### -------"
   ]
  },
  {
   "cell_type": "code",
   "execution_count": 136,
   "id": "9c9e346c",
   "metadata": {},
   "outputs": [
    {
     "data": {
      "text/plain": [
       "KNeighborsClassifier()"
      ]
     },
     "execution_count": 136,
     "metadata": {},
     "output_type": "execute_result"
    }
   ],
   "source": [
    "knc = KNeighborsClassifier()\n",
    "knc.fit(X_train, y_train)"
   ]
  },
  {
   "cell_type": "code",
   "execution_count": 137,
   "id": "cfa66ea9",
   "metadata": {},
   "outputs": [],
   "source": [
    "#knearest neighbor train set model\n",
    "train_knc = knc.predict(X_train)"
   ]
  },
  {
   "cell_type": "code",
   "execution_count": 138,
   "id": "c384a3a8",
   "metadata": {},
   "outputs": [
    {
     "name": "stdout",
     "output_type": "stream",
     "text": [
      "              precision    recall  f1-score   support\n",
      "\n",
      "Not Bankrupt       0.99      0.91      0.95      5286\n",
      "    Bankrupt       0.92      0.99      0.95      5286\n",
      "\n",
      "    accuracy                           0.95     10572\n",
      "   macro avg       0.95      0.95      0.95     10572\n",
      "weighted avg       0.95      0.95      0.95     10572\n",
      "\n"
     ]
    }
   ],
   "source": [
    "print(classification_report(y_train, train_knc, target_names=bankrupt_labels))"
   ]
  },
  {
   "cell_type": "code",
   "execution_count": 139,
   "id": "22ac1351",
   "metadata": {},
   "outputs": [],
   "source": [
    "#knearest neighbor test set model\n",
    "test_knc = knc.predict(X_test)"
   ]
  },
  {
   "cell_type": "code",
   "execution_count": 140,
   "id": "98d75c0a",
   "metadata": {},
   "outputs": [
    {
     "data": {
      "text/plain": [
       "<sklearn.metrics._plot.confusion_matrix.ConfusionMatrixDisplay at 0x1ada0457d00>"
      ]
     },
     "execution_count": 140,
     "metadata": {},
     "output_type": "execute_result"
    },
    {
     "data": {
      "image/png": "[encoded data removed]",
      "text/plain": [
       "<Figure size 432x288 with 2 Axes>"
      ]
     },
     "metadata": {
      "needs_background": "light"
     },
     "output_type": "display_data"
    }
   ],
   "source": [
    "plot_confusion_matrix(knc, X_test, y_test, display_labels=bankrupt_labels, cmap=plt.cm.bone)"
   ]
  },
  {
   "cell_type": "code",
   "execution_count": 141,
   "id": "02c08344",
   "metadata": {
    "scrolled": false
   },
   "outputs": [
    {
     "name": "stdout",
     "output_type": "stream",
     "text": [
      "              precision    recall  f1-score   support\n",
      "\n",
      "Not Bankrupt       0.97      0.86      0.91      1313\n",
      "    Bankrupt       0.08      0.31      0.13        51\n",
      "\n",
      "    accuracy                           0.84      1364\n",
      "   macro avg       0.52      0.59      0.52      1364\n",
      "weighted avg       0.94      0.84      0.88      1364\n",
      "\n"
     ]
    }
   ],
   "source": [
    "print(classification_report(y_test, test_knc, target_names=bankrupt_labels))"
   ]
  },
  {
   "cell_type": "code",
   "execution_count": null,
   "id": "4bde7cfb",
   "metadata": {},
   "outputs": [],
   "source": []
  },
  {
   "cell_type": "code",
   "execution_count": 142,
   "id": "08ed6856",
   "metadata": {
    "scrolled": false
   },
   "outputs": [
    {
     "name": "stdout",
     "output_type": "stream",
     "text": [
      "[0.95620438 0.96350365 0.97080292 0.95620438 0.96323529 0.96323529\n",
      " 0.96323529 0.96323529 0.96323529 0.96323529]\n"
     ]
    }
   ],
   "source": [
    "print(cross_val_score(knc, X_test, y_test, scoring='accuracy', cv=10))"
   ]
  },
  {
   "cell_type": "code",
   "execution_count": 143,
   "id": "084d87fb",
   "metadata": {},
   "outputs": [
    {
     "name": "stdout",
     "output_type": "stream",
     "text": [
      "0.9626127093173036\n"
     ]
    }
   ],
   "source": [
    "print(cross_val_score(knc, X_test, y_test, scoring='accuracy', cv=10).mean())"
   ]
  },
  {
   "cell_type": "code",
   "execution_count": 144,
   "id": "563d0e70",
   "metadata": {},
   "outputs": [
    {
     "name": "stdout",
     "output_type": "stream",
     "text": [
      "0.0039029779963525237\n"
     ]
    }
   ],
   "source": [
    "print(cross_val_score(knc, X_test, y_test, scoring='accuracy', cv=10).std())"
   ]
  },
  {
   "cell_type": "code",
   "execution_count": 145,
   "id": "3dea9423",
   "metadata": {},
   "outputs": [
    {
     "name": "stdout",
     "output_type": "stream",
     "text": [
      "Mean Absolute Error: 0.16348973607038123\n",
      "Mean Squared Error: 0.16348973607038123\n",
      "Root Mean Squared Error: 0.4043386403379984\n"
     ]
    }
   ],
   "source": [
    "print('Mean Absolute Error:', mean_absolute_error(y_test, test_knc))\n",
    "print('Mean Squared Error:', mean_squared_error(y_test, test_knc))  \n",
    "print('Root Mean Squared Error:', np.sqrt(mean_squared_error(y_test, test_knc)))"
   ]
  },
  {
   "cell_type": "code",
   "execution_count": 146,
   "id": "35a983ae",
   "metadata": {},
   "outputs": [
    {
     "data": {
      "text/plain": [
       "0.0784313725490196"
      ]
     },
     "execution_count": 146,
     "metadata": {},
     "output_type": "execute_result"
    }
   ],
   "source": [
    "precision_score(y_test, test_knc)"
   ]
  },
  {
   "cell_type": "code",
   "execution_count": 147,
   "id": "f7fe3e5b",
   "metadata": {},
   "outputs": [
    {
     "data": {
      "text/plain": [
       "0.3137254901960784"
      ]
     },
     "execution_count": 147,
     "metadata": {},
     "output_type": "execute_result"
    }
   ],
   "source": [
    "recall_score(y_test, test_knc)"
   ]
  },
  {
   "cell_type": "code",
   "execution_count": 148,
   "id": "f35871dd",
   "metadata": {
    "scrolled": true
   },
   "outputs": [
    {
     "data": {
      "text/plain": [
       "0.12549019607843137"
      ]
     },
     "execution_count": 148,
     "metadata": {},
     "output_type": "execute_result"
    }
   ],
   "source": [
    "f1_score(y_test, test_knc)"
   ]
  },
  {
   "cell_type": "code",
   "execution_count": null,
   "id": "bffcbb7a",
   "metadata": {},
   "outputs": [],
   "source": []
  },
  {
   "cell_type": "markdown",
   "id": "c2db7a3e",
   "metadata": {},
   "source": [
    "### Support Vector Classifier"
   ]
  },
  {
   "cell_type": "code",
   "execution_count": 149,
   "id": "37ef2618",
   "metadata": {},
   "outputs": [],
   "source": [
    "#pipeline decision tree\n",
    "svc_pipeline = Pipeline([\n",
    "    ('ss', StandardScaler()),\n",
    "    ('svc', SVC())\n",
    "])"
   ]
  },
  {
   "cell_type": "code",
   "execution_count": 150,
   "id": "883074a2",
   "metadata": {},
   "outputs": [
    {
     "data": {
      "text/plain": [
       "Pipeline(steps=[('ss', StandardScaler()), ('svc', SVC())])"
      ]
     },
     "execution_count": 150,
     "metadata": {},
     "output_type": "execute_result"
    }
   ],
   "source": [
    "svc_pipeline.fit(X_train, y_train)"
   ]
  },
  {
   "cell_type": "code",
   "execution_count": 151,
   "id": "f73b4e11",
   "metadata": {},
   "outputs": [
    {
     "data": {
      "text/plain": [
       "dict_keys(['memory', 'steps', 'verbose', 'ss', 'svc', 'ss__copy', 'ss__with_mean', 'ss__with_std', 'svc__C', 'svc__break_ties', 'svc__cache_size', 'svc__class_weight', 'svc__coef0', 'svc__decision_function_shape', 'svc__degree', 'svc__gamma', 'svc__kernel', 'svc__max_iter', 'svc__probability', 'svc__random_state', 'svc__shrinking', 'svc__tol', 'svc__verbose'])"
      ]
     },
     "execution_count": 151,
     "metadata": {},
     "output_type": "execute_result"
    }
   ],
   "source": [
    "svc_pipeline.get_params().keys()"
   ]
  },
  {
   "cell_type": "code",
   "execution_count": 152,
   "id": "e10cad41",
   "metadata": {},
   "outputs": [],
   "source": [
    "param_grid_svc = [{\n",
    "    'svc__random_state': [5, 42]\n",
    "}]"
   ]
  },
  {
   "cell_type": "code",
   "execution_count": 153,
   "id": "fef6d9c7",
   "metadata": {},
   "outputs": [],
   "source": [
    "rand_search_svc = RandomizedSearchCV(svc_pipeline, param_grid_svc)\n",
    "\n",
    "rand_search_svc.fit(X_train, y_train)\n",
    "train_rand_search_svc = rand_search_svc.predict(X_train)"
   ]
  },
  {
   "cell_type": "code",
   "execution_count": 154,
   "id": "d8581058",
   "metadata": {},
   "outputs": [
    {
     "name": "stdout",
     "output_type": "stream",
     "text": [
      "              precision    recall  f1-score   support\n",
      "\n",
      "Not Bankrupt       0.99      0.94      0.96      5286\n",
      "    Bankrupt       0.94      0.99      0.96      5286\n",
      "\n",
      "    accuracy                           0.96     10572\n",
      "   macro avg       0.96      0.96      0.96     10572\n",
      "weighted avg       0.96      0.96      0.96     10572\n",
      "\n"
     ]
    }
   ],
   "source": [
    "print(classification_report(y_train, train_rand_search_svc, target_names=bankrupt_labels))"
   ]
  },
  {
   "cell_type": "code",
   "execution_count": 155,
   "id": "44151d32",
   "metadata": {},
   "outputs": [],
   "source": [
    "#test sample random search decision tree\n",
    "test_rand_search_svc = rand_search_svc.predict(X_test)"
   ]
  },
  {
   "cell_type": "code",
   "execution_count": 156,
   "id": "f35151a2",
   "metadata": {
    "scrolled": true
   },
   "outputs": [
    {
     "name": "stdout",
     "output_type": "stream",
     "text": [
      "              precision    recall  f1-score   support\n",
      "\n",
      "Not Bankrupt       0.98      0.94      0.96      1313\n",
      "    Bankrupt       0.29      0.61      0.39        51\n",
      "\n",
      "    accuracy                           0.93      1364\n",
      "   macro avg       0.64      0.78      0.68      1364\n",
      "weighted avg       0.96      0.93      0.94      1364\n",
      "\n"
     ]
    }
   ],
   "source": [
    "print(classification_report(y_test, test_rand_search_svc, target_names=bankrupt_labels))"
   ]
  },
  {
   "cell_type": "markdown",
   "id": "5e0adf92",
   "metadata": {},
   "source": [
    "### -------"
   ]
  },
  {
   "cell_type": "code",
   "execution_count": 157,
   "id": "3716c45e",
   "metadata": {},
   "outputs": [
    {
     "data": {
      "text/plain": [
       "SVC()"
      ]
     },
     "execution_count": 157,
     "metadata": {},
     "output_type": "execute_result"
    }
   ],
   "source": [
    "svc = SVC()\n",
    "svc.fit(X_train, y_train)"
   ]
  },
  {
   "cell_type": "code",
   "execution_count": 158,
   "id": "e852ba36",
   "metadata": {},
   "outputs": [],
   "source": [
    "#knearest neighbor train set model\n",
    "train_svc = svc.predict(X_train)"
   ]
  },
  {
   "cell_type": "code",
   "execution_count": 159,
   "id": "a0199574",
   "metadata": {},
   "outputs": [
    {
     "name": "stdout",
     "output_type": "stream",
     "text": [
      "              precision    recall  f1-score   support\n",
      "\n",
      "Not Bankrupt       0.88      0.80      0.84      5286\n",
      "    Bankrupt       0.82      0.89      0.85      5286\n",
      "\n",
      "    accuracy                           0.85     10572\n",
      "   macro avg       0.85      0.85      0.85     10572\n",
      "weighted avg       0.85      0.85      0.85     10572\n",
      "\n"
     ]
    }
   ],
   "source": [
    "print(classification_report(y_train, train_svc, target_names=bankrupt_labels))"
   ]
  },
  {
   "cell_type": "code",
   "execution_count": 160,
   "id": "b003d794",
   "metadata": {},
   "outputs": [],
   "source": [
    "#knearest neighbor test set model\n",
    "test_svc = svc.predict(X_test)"
   ]
  },
  {
   "cell_type": "code",
   "execution_count": 161,
   "id": "f1cf526a",
   "metadata": {},
   "outputs": [
    {
     "data": {
      "text/plain": [
       "<sklearn.metrics._plot.confusion_matrix.ConfusionMatrixDisplay at 0x1ada04ff700>"
      ]
     },
     "execution_count": 161,
     "metadata": {},
     "output_type": "execute_result"
    },
    {
     "data": {
      "image/png": "[encoded data removed]",
      "text/plain": [
       "<Figure size 432x288 with 2 Axes>"
      ]
     },
     "metadata": {
      "needs_background": "light"
     },
     "output_type": "display_data"
    }
   ],
   "source": [
    "plot_confusion_matrix(svc, X_test, y_test, display_labels=bankrupt_labels, cmap=plt.cm.GnBu)"
   ]
  },
  {
   "cell_type": "code",
   "execution_count": 162,
   "id": "77b63db0",
   "metadata": {
    "scrolled": true
   },
   "outputs": [
    {
     "name": "stdout",
     "output_type": "stream",
     "text": [
      "              precision    recall  f1-score   support\n",
      "\n",
      "Not Bankrupt       0.97      0.78      0.87      1313\n",
      "    Bankrupt       0.07      0.41      0.12        51\n",
      "\n",
      "    accuracy                           0.77      1364\n",
      "   macro avg       0.52      0.60      0.49      1364\n",
      "weighted avg       0.94      0.77      0.84      1364\n",
      "\n"
     ]
    }
   ],
   "source": [
    "print(classification_report(y_test, test_svc, target_names=bankrupt_labels))"
   ]
  },
  {
   "cell_type": "code",
   "execution_count": null,
   "id": "15997702",
   "metadata": {},
   "outputs": [],
   "source": []
  },
  {
   "cell_type": "code",
   "execution_count": 163,
   "id": "1e1a05bc",
   "metadata": {
    "scrolled": false
   },
   "outputs": [
    {
     "name": "stdout",
     "output_type": "stream",
     "text": [
      "[0.96350365 0.96350365 0.96350365 0.95620438 0.96323529 0.96323529\n",
      " 0.96323529 0.96323529 0.96323529 0.96323529]\n"
     ]
    }
   ],
   "source": [
    "print(cross_val_score(svc, X_test, y_test, scoring='accuracy', cv=10))"
   ]
  },
  {
   "cell_type": "code",
   "execution_count": 164,
   "id": "2282f2ed",
   "metadata": {},
   "outputs": [
    {
     "name": "stdout",
     "output_type": "stream",
     "text": [
      "0.9626127093173036\n"
     ]
    }
   ],
   "source": [
    "print(cross_val_score(svc, X_test, y_test, scoring='accuracy', cv=10).mean())"
   ]
  },
  {
   "cell_type": "code",
   "execution_count": 165,
   "id": "ad0509cf",
   "metadata": {},
   "outputs": [
    {
     "name": "stdout",
     "output_type": "stream",
     "text": [
      "0.0021394785627144317\n"
     ]
    }
   ],
   "source": [
    "print(cross_val_score(svc, X_test, y_test, scoring='accuracy', cv=10).std())"
   ]
  },
  {
   "cell_type": "code",
   "execution_count": 166,
   "id": "9874a056",
   "metadata": {},
   "outputs": [
    {
     "name": "stdout",
     "output_type": "stream",
     "text": [
      "Mean Absolute Error: 0.23387096774193547\n",
      "Mean Squared Error: 0.23387096774193547\n",
      "Root Mean Squared Error: 0.4836020758246758\n"
     ]
    }
   ],
   "source": [
    "print('Mean Absolute Error:', mean_absolute_error(y_test, test_svc))\n",
    "print('Mean Squared Error:', mean_squared_error(y_test, test_svc))  \n",
    "print('Root Mean Squared Error:', np.sqrt(mean_squared_error(y_test, test_svc)))"
   ]
  },
  {
   "cell_type": "code",
   "execution_count": 167,
   "id": "79189a0f",
   "metadata": {},
   "outputs": [
    {
     "data": {
      "text/plain": [
       "0.06774193548387097"
      ]
     },
     "execution_count": 167,
     "metadata": {},
     "output_type": "execute_result"
    }
   ],
   "source": [
    "precision_score(y_test, test_svc)"
   ]
  },
  {
   "cell_type": "code",
   "execution_count": 168,
   "id": "e9587abd",
   "metadata": {},
   "outputs": [
    {
     "data": {
      "text/plain": [
       "0.4117647058823529"
      ]
     },
     "execution_count": 168,
     "metadata": {},
     "output_type": "execute_result"
    }
   ],
   "source": [
    "recall_score(y_test, test_svc)"
   ]
  },
  {
   "cell_type": "code",
   "execution_count": 169,
   "id": "3d287d41",
   "metadata": {
    "scrolled": true
   },
   "outputs": [
    {
     "data": {
      "text/plain": [
       "0.11634349030470915"
      ]
     },
     "execution_count": 169,
     "metadata": {},
     "output_type": "execute_result"
    }
   ],
   "source": [
    "f1_score(y_test, test_svc)"
   ]
  },
  {
   "cell_type": "code",
   "execution_count": null,
   "id": "a6b8655e",
   "metadata": {},
   "outputs": [],
   "source": []
  },
  {
   "cell_type": "markdown",
   "id": "01067118",
   "metadata": {},
   "source": [
    "### Naive Bayes Bernoulli"
   ]
  },
  {
   "cell_type": "code",
   "execution_count": 170,
   "id": "b7d077f8",
   "metadata": {},
   "outputs": [],
   "source": [
    "#pipeline decision tree\n",
    "bnbc_pipeline = Pipeline([\n",
    "    ('ss', StandardScaler()),\n",
    "    ('bnbc', BernoulliNB())\n",
    "])"
   ]
  },
  {
   "cell_type": "code",
   "execution_count": 171,
   "id": "b2ea5803",
   "metadata": {},
   "outputs": [
    {
     "data": {
      "text/plain": [
       "Pipeline(steps=[('ss', StandardScaler()), ('bnbc', BernoulliNB())])"
      ]
     },
     "execution_count": 171,
     "metadata": {},
     "output_type": "execute_result"
    }
   ],
   "source": [
    "bnbc_pipeline.fit(X_train, y_train)"
   ]
  },
  {
   "cell_type": "code",
   "execution_count": 172,
   "id": "fa3169cd",
   "metadata": {},
   "outputs": [
    {
     "data": {
      "text/plain": [
       "dict_keys(['memory', 'steps', 'verbose', 'ss', 'bnbc', 'ss__copy', 'ss__with_mean', 'ss__with_std', 'bnbc__alpha', 'bnbc__binarize', 'bnbc__class_prior', 'bnbc__fit_prior'])"
      ]
     },
     "execution_count": 172,
     "metadata": {},
     "output_type": "execute_result"
    }
   ],
   "source": [
    "bnbc_pipeline.get_params().keys()"
   ]
  },
  {
   "cell_type": "code",
   "execution_count": 173,
   "id": "aef7276b",
   "metadata": {},
   "outputs": [],
   "source": [
    "param_grid_bnbc = [{\n",
    "}]"
   ]
  },
  {
   "cell_type": "code",
   "execution_count": 174,
   "id": "9d44d5cc",
   "metadata": {
    "scrolled": true
   },
   "outputs": [],
   "source": [
    "rand_search_bnbc = RandomizedSearchCV(bnbc_pipeline, param_grid_bnbc)\n",
    "\n",
    "rand_search_bnbc.fit(X_train, y_train)\n",
    "train_rand_search_bnbc = rand_search_bnbc.predict(X_train)"
   ]
  },
  {
   "cell_type": "code",
   "execution_count": 175,
   "id": "7ebca50f",
   "metadata": {},
   "outputs": [
    {
     "name": "stdout",
     "output_type": "stream",
     "text": [
      "              precision    recall  f1-score   support\n",
      "\n",
      "Not Bankrupt       0.86      0.85      0.85      5286\n",
      "    Bankrupt       0.85      0.86      0.85      5286\n",
      "\n",
      "    accuracy                           0.85     10572\n",
      "   macro avg       0.85      0.85      0.85     10572\n",
      "weighted avg       0.85      0.85      0.85     10572\n",
      "\n"
     ]
    }
   ],
   "source": [
    "print(classification_report(y_train, train_rand_search_bnbc, target_names=bankrupt_labels))"
   ]
  },
  {
   "cell_type": "code",
   "execution_count": 176,
   "id": "0f6c5e26",
   "metadata": {},
   "outputs": [],
   "source": [
    "#test sample random search decision tree\n",
    "test_rand_search_bnbc = rand_search_bnbc.predict(X_test)"
   ]
  },
  {
   "cell_type": "code",
   "execution_count": 177,
   "id": "443f45e7",
   "metadata": {
    "scrolled": true
   },
   "outputs": [
    {
     "name": "stdout",
     "output_type": "stream",
     "text": [
      "              precision    recall  f1-score   support\n",
      "\n",
      "Not Bankrupt       0.99      0.86      0.92      1313\n",
      "    Bankrupt       0.18      0.80      0.30        51\n",
      "\n",
      "    accuracy                           0.86      1364\n",
      "   macro avg       0.59      0.83      0.61      1364\n",
      "weighted avg       0.96      0.86      0.90      1364\n",
      "\n"
     ]
    }
   ],
   "source": [
    "print(classification_report(y_test, test_rand_search_bnbc, target_names=bankrupt_labels))"
   ]
  },
  {
   "cell_type": "markdown",
   "id": "d7d633ab",
   "metadata": {},
   "source": [
    "### -------"
   ]
  },
  {
   "cell_type": "code",
   "execution_count": 178,
   "id": "1846a3e1",
   "metadata": {},
   "outputs": [
    {
     "data": {
      "text/plain": [
       "BernoulliNB()"
      ]
     },
     "execution_count": 178,
     "metadata": {},
     "output_type": "execute_result"
    }
   ],
   "source": [
    "bnbc = BernoulliNB()\n",
    "bnbc.fit(X_train, y_train)"
   ]
  },
  {
   "cell_type": "code",
   "execution_count": 179,
   "id": "4d1f8294",
   "metadata": {},
   "outputs": [],
   "source": [
    "#knearest neighbor train set model\n",
    "train_bnbc = bnbc.predict(X_train)"
   ]
  },
  {
   "cell_type": "code",
   "execution_count": 180,
   "id": "b9aa6be4",
   "metadata": {},
   "outputs": [
    {
     "name": "stdout",
     "output_type": "stream",
     "text": [
      "              precision    recall  f1-score   support\n",
      "\n",
      "Not Bankrupt       0.74      0.77      0.76      5286\n",
      "    Bankrupt       0.76      0.73      0.75      5286\n",
      "\n",
      "    accuracy                           0.75     10572\n",
      "   macro avg       0.75      0.75      0.75     10572\n",
      "weighted avg       0.75      0.75      0.75     10572\n",
      "\n"
     ]
    }
   ],
   "source": [
    "print(classification_report(y_train, train_bnbc, target_names=bankrupt_labels))"
   ]
  },
  {
   "cell_type": "code",
   "execution_count": 181,
   "id": "aed13df2",
   "metadata": {},
   "outputs": [],
   "source": [
    "#knearest neighbor test set model\n",
    "test_bnbc = bnbc.predict(X_test)"
   ]
  },
  {
   "cell_type": "code",
   "execution_count": 182,
   "id": "04ba4727",
   "metadata": {},
   "outputs": [
    {
     "data": {
      "text/plain": [
       "<sklearn.metrics._plot.confusion_matrix.ConfusionMatrixDisplay at 0x1ada2c9ecd0>"
      ]
     },
     "execution_count": 182,
     "metadata": {},
     "output_type": "execute_result"
    },
    {
     "data": {
      "image/png": "[encoded data removed]",
      "text/plain": [
       "<Figure size 432x288 with 2 Axes>"
      ]
     },
     "metadata": {
      "needs_background": "light"
     },
     "output_type": "display_data"
    }
   ],
   "source": [
    "plot_confusion_matrix(bnbc, X_test, y_test, display_labels=bankrupt_labels, cmap=plt.cm.hot)"
   ]
  },
  {
   "cell_type": "code",
   "execution_count": 183,
   "id": "4dd1aa0a",
   "metadata": {
    "scrolled": false
   },
   "outputs": [
    {
     "name": "stdout",
     "output_type": "stream",
     "text": [
      "              precision    recall  f1-score   support\n",
      "\n",
      "Not Bankrupt       0.99      0.78      0.87      1313\n",
      "    Bankrupt       0.12      0.73      0.20        51\n",
      "\n",
      "    accuracy                           0.78      1364\n",
      "   macro avg       0.55      0.75      0.54      1364\n",
      "weighted avg       0.95      0.78      0.85      1364\n",
      "\n"
     ]
    }
   ],
   "source": [
    "print(classification_report(y_test, test_bnbc, target_names=bankrupt_labels))"
   ]
  },
  {
   "cell_type": "code",
   "execution_count": null,
   "id": "bbda222e",
   "metadata": {},
   "outputs": [],
   "source": []
  },
  {
   "cell_type": "code",
   "execution_count": 184,
   "id": "672e358b",
   "metadata": {
    "scrolled": false
   },
   "outputs": [
    {
     "name": "stdout",
     "output_type": "stream",
     "text": [
      "[0.97080292 0.95620438 0.96350365 0.95620438 0.96323529 0.95588235\n",
      " 0.96323529 0.96323529 0.95588235 0.97058824]\n"
     ]
    }
   ],
   "source": [
    "print(cross_val_score(bnbc, X_test, y_test, scoring='accuracy', cv=10))"
   ]
  },
  {
   "cell_type": "code",
   "execution_count": 185,
   "id": "5133f5a8",
   "metadata": {},
   "outputs": [
    {
     "name": "stdout",
     "output_type": "stream",
     "text": [
      "0.9618774151996565\n"
     ]
    }
   ],
   "source": [
    "print(cross_val_score(bnbc, X_test, y_test, scoring='accuracy', cv=10).mean())"
   ]
  },
  {
   "cell_type": "code",
   "execution_count": 186,
   "id": "73dd128c",
   "metadata": {},
   "outputs": [
    {
     "name": "stdout",
     "output_type": "stream",
     "text": [
      "0.005476927706396938\n"
     ]
    }
   ],
   "source": [
    "print(cross_val_score(bnbc, X_test, y_test, scoring='accuracy', cv=10).std())"
   ]
  },
  {
   "cell_type": "code",
   "execution_count": 187,
   "id": "0e4208de",
   "metadata": {},
   "outputs": [
    {
     "name": "stdout",
     "output_type": "stream",
     "text": [
      "Mean Absolute Error: 0.21774193548387097\n",
      "Mean Squared Error: 0.21774193548387097\n",
      "Root Mean Squared Error: 0.4666282626286914\n"
     ]
    }
   ],
   "source": [
    "print('Mean Absolute Error:', mean_absolute_error(y_test, test_bnbc))\n",
    "print('Mean Squared Error:', mean_squared_error(y_test, test_bnbc))  \n",
    "print('Root Mean Squared Error:', np.sqrt(mean_squared_error(y_test, test_bnbc)))"
   ]
  },
  {
   "cell_type": "code",
   "execution_count": 188,
   "id": "483b7a49",
   "metadata": {},
   "outputs": [
    {
     "data": {
      "text/plain": [
       "0.115625"
      ]
     },
     "execution_count": 188,
     "metadata": {},
     "output_type": "execute_result"
    }
   ],
   "source": [
    "precision_score(y_test, test_bnbc)"
   ]
  },
  {
   "cell_type": "code",
   "execution_count": 189,
   "id": "2bcafbbe",
   "metadata": {},
   "outputs": [
    {
     "data": {
      "text/plain": [
       "0.7254901960784313"
      ]
     },
     "execution_count": 189,
     "metadata": {},
     "output_type": "execute_result"
    }
   ],
   "source": [
    "recall_score(y_test, test_bnbc)"
   ]
  },
  {
   "cell_type": "code",
   "execution_count": 190,
   "id": "d906f6e7",
   "metadata": {
    "scrolled": true
   },
   "outputs": [
    {
     "data": {
      "text/plain": [
       "0.19946091644204855"
      ]
     },
     "execution_count": 190,
     "metadata": {},
     "output_type": "execute_result"
    }
   ],
   "source": [
    "f1_score(y_test, test_bnbc)"
   ]
  },
  {
   "cell_type": "code",
   "execution_count": null,
   "id": "bd213a74",
   "metadata": {},
   "outputs": [],
   "source": []
  },
  {
   "cell_type": "markdown",
   "id": "8ca97b68",
   "metadata": {},
   "source": [
    "### XGBoost Classifier"
   ]
  },
  {
   "cell_type": "code",
   "execution_count": 191,
   "id": "d4c45d24",
   "metadata": {},
   "outputs": [],
   "source": [
    "#pipeline decision tree\n",
    "xgbc_pipeline = Pipeline([\n",
    "    ('ss', StandardScaler()),\n",
    "    ('xgb', XGBClassifier(eval_metric='mlogloss'))\n",
    "])"
   ]
  },
  {
   "cell_type": "code",
   "execution_count": 192,
   "id": "8a5b0881",
   "metadata": {},
   "outputs": [
    {
     "data": {
      "text/plain": [
       "Pipeline(steps=[('ss', StandardScaler()),\n",
       "                ('xgb',\n",
       "                 XGBClassifier(base_score=0.5, booster='gbtree',\n",
       "                               colsample_bylevel=1, colsample_bynode=1,\n",
       "                               colsample_bytree=1, eval_metric='mlogloss',\n",
       "                               gamma=0, gpu_id=-1, importance_type='gain',\n",
       "                               interaction_constraints='',\n",
       "                               learning_rate=0.300000012, max_delta_step=0,\n",
       "                               max_depth=6, min_child_weight=1, missing=nan,\n",
       "                               monotone_constraints='()', n_estimators=100,\n",
       "                               n_jobs=4, num_parallel_tree=1, random_state=0,\n",
       "                               reg_alpha=0, reg_lambda=1, scale_pos_weight=1,\n",
       "                               subsample=1, tree_method='exact',\n",
       "                               validate_parameters=1, verbosity=None))])"
      ]
     },
     "execution_count": 192,
     "metadata": {},
     "output_type": "execute_result"
    }
   ],
   "source": [
    "xgbc_pipeline.fit(X_train, y_train)"
   ]
  },
  {
   "cell_type": "code",
   "execution_count": 193,
   "id": "ba4db6a3",
   "metadata": {},
   "outputs": [
    {
     "data": {
      "text/plain": [
       "dict_keys(['memory', 'steps', 'verbose', 'ss', 'xgb', 'ss__copy', 'ss__with_mean', 'ss__with_std', 'xgb__objective', 'xgb__use_label_encoder', 'xgb__base_score', 'xgb__booster', 'xgb__colsample_bylevel', 'xgb__colsample_bynode', 'xgb__colsample_bytree', 'xgb__gamma', 'xgb__gpu_id', 'xgb__importance_type', 'xgb__interaction_constraints', 'xgb__learning_rate', 'xgb__max_delta_step', 'xgb__max_depth', 'xgb__min_child_weight', 'xgb__missing', 'xgb__monotone_constraints', 'xgb__n_estimators', 'xgb__n_jobs', 'xgb__num_parallel_tree', 'xgb__random_state', 'xgb__reg_alpha', 'xgb__reg_lambda', 'xgb__scale_pos_weight', 'xgb__subsample', 'xgb__tree_method', 'xgb__validate_parameters', 'xgb__verbosity', 'xgb__eval_metric'])"
      ]
     },
     "execution_count": 193,
     "metadata": {},
     "output_type": "execute_result"
    }
   ],
   "source": [
    "xgbc_pipeline.get_params().keys()"
   ]
  },
  {
   "cell_type": "code",
   "execution_count": 194,
   "id": "109627a6",
   "metadata": {},
   "outputs": [],
   "source": [
    "param_grid_xgbc = [{\n",
    "    'xgb__learning_rate': [0.1, 0.2, 0.3, 0.4],\n",
    "    'xgb__gamma': [0, 1, 2, 3],\n",
    "    'xgb__max_depth': [20,60],\n",
    "    'xgb__min_child_weight': [1, 2],\n",
    "    'xgb__subsample': [0.2, 0.5, 0.7, 0.9],\n",
    "}]"
   ]
  },
  {
   "cell_type": "code",
   "execution_count": 195,
   "id": "fd21e9a1",
   "metadata": {},
   "outputs": [],
   "source": [
    "rand_search_xgbc = RandomizedSearchCV(xgbc_pipeline, param_grid_xgbc)\n",
    "\n",
    "rand_search_xgbc.fit(X_train, y_train)\n",
    "train_rand_search_xgbc = rand_search_xgbc.predict(X_train)"
   ]
  },
  {
   "cell_type": "code",
   "execution_count": 196,
   "id": "8a0bfc5c",
   "metadata": {},
   "outputs": [
    {
     "name": "stdout",
     "output_type": "stream",
     "text": [
      "              precision    recall  f1-score   support\n",
      "\n",
      "Not Bankrupt       1.00      1.00      1.00      5286\n",
      "    Bankrupt       1.00      1.00      1.00      5286\n",
      "\n",
      "    accuracy                           1.00     10572\n",
      "   macro avg       1.00      1.00      1.00     10572\n",
      "weighted avg       1.00      1.00      1.00     10572\n",
      "\n"
     ]
    }
   ],
   "source": [
    "print(classification_report(y_train, train_rand_search_xgbc, target_names=bankrupt_labels))"
   ]
  },
  {
   "cell_type": "code",
   "execution_count": 197,
   "id": "00909128",
   "metadata": {},
   "outputs": [],
   "source": [
    "#test sample random search decision tree\n",
    "test_rand_search_xgbc = rand_search_xgbc.predict(X_test)"
   ]
  },
  {
   "cell_type": "code",
   "execution_count": 198,
   "id": "18f547a2",
   "metadata": {
    "scrolled": true
   },
   "outputs": [
    {
     "name": "stdout",
     "output_type": "stream",
     "text": [
      "              precision    recall  f1-score   support\n",
      "\n",
      "Not Bankrupt       0.98      0.98      0.98      1313\n",
      "    Bankrupt       0.48      0.55      0.51        51\n",
      "\n",
      "    accuracy                           0.96      1364\n",
      "   macro avg       0.73      0.76      0.75      1364\n",
      "weighted avg       0.96      0.96      0.96      1364\n",
      "\n"
     ]
    }
   ],
   "source": [
    "print(classification_report(y_test, test_rand_search_xgbc, target_names=bankrupt_labels))"
   ]
  },
  {
   "cell_type": "markdown",
   "id": "a901e4a4",
   "metadata": {},
   "source": [
    "### -------"
   ]
  },
  {
   "cell_type": "code",
   "execution_count": 199,
   "id": "7e0d37e5",
   "metadata": {},
   "outputs": [
    {
     "data": {
      "text/plain": [
       "XGBClassifier(base_score=0.5, booster='gbtree', colsample_bylevel=1,\n",
       "              colsample_bynode=1, colsample_bytree=1, eval_metric='mlogloss',\n",
       "              gamma=0, gpu_id=-1, importance_type='gain',\n",
       "              interaction_constraints='', learning_rate=0.300000012,\n",
       "              max_delta_step=0, max_depth=6, min_child_weight=1, missing=nan,\n",
       "              monotone_constraints='()', n_estimators=100, n_jobs=4,\n",
       "              num_parallel_tree=1, random_state=0, reg_alpha=0, reg_lambda=1,\n",
       "              scale_pos_weight=1, subsample=1, tree_method='exact',\n",
       "              validate_parameters=1, verbosity=None)"
      ]
     },
     "execution_count": 199,
     "metadata": {},
     "output_type": "execute_result"
    }
   ],
   "source": [
    "xgbc = XGBClassifier(eval_metric='mlogloss')\n",
    "xgbc.fit(X_train, y_train)"
   ]
  },
  {
   "cell_type": "code",
   "execution_count": 200,
   "id": "94364966",
   "metadata": {},
   "outputs": [],
   "source": [
    "#knearest neighbor train set model\n",
    "train_xgbc = xgbc.predict(X_train)"
   ]
  },
  {
   "cell_type": "code",
   "execution_count": 201,
   "id": "1d4f01bb",
   "metadata": {},
   "outputs": [
    {
     "name": "stdout",
     "output_type": "stream",
     "text": [
      "              precision    recall  f1-score   support\n",
      "\n",
      "Not Bankrupt       1.00      1.00      1.00      5286\n",
      "    Bankrupt       1.00      1.00      1.00      5286\n",
      "\n",
      "    accuracy                           1.00     10572\n",
      "   macro avg       1.00      1.00      1.00     10572\n",
      "weighted avg       1.00      1.00      1.00     10572\n",
      "\n"
     ]
    }
   ],
   "source": [
    "print(classification_report(y_train, train_xgbc, target_names=bankrupt_labels))"
   ]
  },
  {
   "cell_type": "code",
   "execution_count": 202,
   "id": "bfb1bc8e",
   "metadata": {},
   "outputs": [],
   "source": [
    "#knearest neighbor test set model\n",
    "test_xgbc = xgbc.predict(X_test)"
   ]
  },
  {
   "cell_type": "code",
   "execution_count": 203,
   "id": "c7421415",
   "metadata": {},
   "outputs": [
    {
     "data": {
      "text/plain": [
       "<sklearn.metrics._plot.confusion_matrix.ConfusionMatrixDisplay at 0x1ada038de20>"
      ]
     },
     "execution_count": 203,
     "metadata": {},
     "output_type": "execute_result"
    },
    {
     "data": {
      "image/png": "[encoded data removed]",
      "text/plain": [
       "<Figure size 432x288 with 2 Axes>"
      ]
     },
     "metadata": {
      "needs_background": "light"
     },
     "output_type": "display_data"
    }
   ],
   "source": [
    "plot_confusion_matrix(xgbc, X_test, y_test, display_labels=bankrupt_labels, cmap=plt.cm.jet)"
   ]
  },
  {
   "cell_type": "code",
   "execution_count": 204,
   "id": "be06ce52",
   "metadata": {
    "scrolled": false
   },
   "outputs": [
    {
     "name": "stdout",
     "output_type": "stream",
     "text": [
      "              precision    recall  f1-score   support\n",
      "\n",
      "Not Bankrupt       0.98      0.98      0.98      1313\n",
      "    Bankrupt       0.49      0.45      0.47        51\n",
      "\n",
      "    accuracy                           0.96      1364\n",
      "   macro avg       0.73      0.72      0.72      1364\n",
      "weighted avg       0.96      0.96      0.96      1364\n",
      "\n"
     ]
    }
   ],
   "source": [
    "print(classification_report(y_test, test_xgbc, target_names=bankrupt_labels))"
   ]
  },
  {
   "cell_type": "code",
   "execution_count": null,
   "id": "199a3920",
   "metadata": {},
   "outputs": [],
   "source": []
  },
  {
   "cell_type": "code",
   "execution_count": 205,
   "id": "16693011",
   "metadata": {
    "scrolled": false
   },
   "outputs": [
    {
     "name": "stdout",
     "output_type": "stream",
     "text": [
      "[0.97080292 0.97080292 0.96350365 0.97080292 0.96323529 0.97058824\n",
      " 0.97794118 0.96323529 0.97058824 0.93382353]\n"
     ]
    }
   ],
   "source": [
    "print(cross_val_score(xgbc, X_test, y_test, scoring='accuracy', cv=10))"
   ]
  },
  {
   "cell_type": "code",
   "execution_count": 206,
   "id": "bdf6f971",
   "metadata": {},
   "outputs": [
    {
     "name": "stdout",
     "output_type": "stream",
     "text": [
      "0.9655324173465006\n"
     ]
    }
   ],
   "source": [
    "print(cross_val_score(xgbc, X_test, y_test, scoring='accuracy', cv=10).mean())"
   ]
  },
  {
   "cell_type": "code",
   "execution_count": 207,
   "id": "e92464bb",
   "metadata": {},
   "outputs": [
    {
     "name": "stdout",
     "output_type": "stream",
     "text": [
      "0.011439219822212316\n"
     ]
    }
   ],
   "source": [
    "print(cross_val_score(xgbc, X_test, y_test, scoring='accuracy', cv=10).std())"
   ]
  },
  {
   "cell_type": "code",
   "execution_count": 208,
   "id": "d98c65f3",
   "metadata": {},
   "outputs": [
    {
     "name": "stdout",
     "output_type": "stream",
     "text": [
      "Mean Absolute Error: 0.03812316715542522\n",
      "Mean Squared Error: 0.03812316715542522\n",
      "Root Mean Squared Error: 0.19525154840724113\n"
     ]
    }
   ],
   "source": [
    "print('Mean Absolute Error:', mean_absolute_error(y_test, test_xgbc))\n",
    "print('Mean Squared Error:', mean_squared_error(y_test, test_xgbc))  \n",
    "print('Root Mean Squared Error:', np.sqrt(mean_squared_error(y_test, test_xgbc)))"
   ]
  },
  {
   "cell_type": "code",
   "execution_count": 209,
   "id": "d4d7cc3d",
   "metadata": {},
   "outputs": [
    {
     "data": {
      "text/plain": [
       "0.48936170212765956"
      ]
     },
     "execution_count": 209,
     "metadata": {},
     "output_type": "execute_result"
    }
   ],
   "source": [
    "precision_score(y_test, test_xgbc)"
   ]
  },
  {
   "cell_type": "code",
   "execution_count": 210,
   "id": "665d4c76",
   "metadata": {},
   "outputs": [
    {
     "data": {
      "text/plain": [
       "0.45098039215686275"
      ]
     },
     "execution_count": 210,
     "metadata": {},
     "output_type": "execute_result"
    }
   ],
   "source": [
    "recall_score(y_test, test_xgbc)"
   ]
  },
  {
   "cell_type": "code",
   "execution_count": 211,
   "id": "b035fee3",
   "metadata": {
    "scrolled": true
   },
   "outputs": [
    {
     "data": {
      "text/plain": [
       "0.46938775510204084"
      ]
     },
     "execution_count": 211,
     "metadata": {},
     "output_type": "execute_result"
    }
   ],
   "source": [
    "f1_score(y_test, test_xgbc)"
   ]
  },
  {
   "cell_type": "code",
   "execution_count": null,
   "id": "e6a59a3f",
   "metadata": {},
   "outputs": [],
   "source": []
  }
 ],
 "metadata": {
  "kernelspec": {
   "display_name": "Python 3",
   "language": "python",
   "name": "python3"
  },
  "language_info": {
   "codemirror_mode": {
    "name": "ipython",
    "version": 3
   },
   "file_extension": ".py",
   "mimetype": "text/x-python",
   "name": "python",
   "nbconvert_exporter": "python",
   "pygments_lexer": "ipython3",
   "version": "3.8.8"
  }
 },
 "nbformat": 4,
 "nbformat_minor": 5
}
